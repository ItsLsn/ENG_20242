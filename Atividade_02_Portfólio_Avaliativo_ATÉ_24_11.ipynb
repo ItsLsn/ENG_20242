{
  "nbformat": 4,
  "nbformat_minor": 0,
  "metadata": {
    "colab": {
      "provenance": [],
      "authorship_tag": "ABX9TyNzXggxytei/VIiPz46EpPQ",
      "include_colab_link": true
    },
    "kernelspec": {
      "name": "python3",
      "display_name": "Python 3"
    },
    "language_info": {
      "name": "python"
    }
  },
  "cells": [
    {
      "cell_type": "markdown",
      "metadata": {
        "id": "view-in-github",
        "colab_type": "text"
      },
      "source": [
        "<a href=\"https://colab.research.google.com/github/ItsLsn/ENG_20242/blob/main/Atividade_02_Portf%C3%B3lio_Avaliativo_AT%C3%89_24_11.ipynb\" target=\"_parent\"><img src=\"https://colab.research.google.com/assets/colab-badge.svg\" alt=\"Open In Colab\"/></a>"
      ]
    },
    {
      "cell_type": "code",
      "execution_count": null,
      "metadata": {
        "id": "-mCiZjF2W-Hg"
      },
      "outputs": [],
      "source": [
        "#1. Crie uma função que receba uma lista de números e retorne uma lista contendo apenas os números ímpares.\n",
        "\n",
        "def numeros_impares(lista):\n",
        "    impares = []\n",
        "    for numero in lista:\n",
        "        if numero % 2 != 0:\n",
        "            impares.append(numero)\n",
        "    return impares\n",
        "\n",
        "#2. Escreva uma função que receba uma lista e retorne uma nova lista com o dobro de cada elemento.\n",
        "\n",
        "def dobro_lista(lista):\n",
        "    dobro = []\n",
        "    for numero in lista:\n",
        "        dobro.append(numero * 2)\n",
        "    return dobro\n",
        "\n",
        "#3. Faça uma função que receba uma lista e retorne uma lista sem duplicatas.\n",
        "\n",
        "def sem_duplicatas(lista):\n",
        "    sem_duplicatas = []\n",
        "    for numero in lista:\n",
        "        if numero not in sem_duplicatas:\n",
        "            sem_duplicatas.append(numero)\n",
        "    return sem_duplicatas\n",
        "\n",
        "#4. Crie uma função que receba uma lista e um valor divisor e retorne uma lista dos elementos que são divisíveis pelo divisor.\n",
        "\n",
        "def num_divisiveis(lista, divisor):\n",
        "    divisiveis = []\n",
        "    for numero in lista:\n",
        "        if numero % divisor == 0:\n",
        "            divisiveis.append(numero)\n",
        "    return divisiveis\n",
        "\n",
        "#5. Escreva uma função que receba duas listas e retorne um conjunto com os elementos que aparecem em ambas.\n",
        "\n",
        "def elementos_comuns(lista1, lista2):\n",
        "    comuns = set(lista1) & set(lista2)\n",
        "    return list(comuns)\n",
        "\n",
        "#6. Crie uma função que receba uma lista e retorne uma nova lista com os elementos em ordem inversa.\n",
        "\n",
        "def lista_inversa(lista):\n",
        "    inversa = lista[::-1]\n",
        "    return inversa\n",
        "\n",
        "#7. Escreva uma função que receba uma lista de números e retorne uma lista contendo o quadrado de cada número.\n",
        "\n",
        "def quadrados(lista):\n",
        "    quadrados = []\n",
        "    for numero in lista:\n",
        "        quadrados.append(numero ** 2)\n",
        "    return quadrados\n",
        "\n",
        "#8. Crie uma função que receba uma lista e um valor, e retorne uma lista com os elementos maiores que esse valor.\n",
        "\n",
        "def maiores_que_valor(lista, valor):\n",
        "    maiores = []\n",
        "    for numero in lista:\n",
        "        if numero > valor:\n",
        "            maiores.append(numero)\n",
        "    return maiores\n",
        "\n",
        "#9. Escreva uma função que receba duas listas e retorne uma lista dos elementos que estão em apenas uma das listas.\n",
        "\n",
        "def elementos_unicos(lista1, lista2):\n",
        "    unicos = []\n",
        "    for numero in lista1:\n",
        "        if numero not in lista2 and numero not in unicos:\n",
        "            unicos.append(numero)\n",
        "\n",
        "    for numero in lista2:\n",
        "        if numero not in lista1 and numero not in unicos:\n",
        "            unicos.append(numero)\n",
        "    return unicos\n",
        "\n",
        "\n",
        "#10. Faça uma função que receba uma lista e retorne um conjunto dos elementos únicos.\n",
        "\n",
        "def conjunto_unicos(lista):\n",
        "    unicos = set()\n",
        "    for numero in lista:\n",
        "        if numero not in unicos:\n",
        "            unicos.add(numero)\n",
        "    return unicos\n",
        "\n",
        "#11. Crie uma função que receba duas listas e retorne uma lista dos elementos únicos que estão em ambas.\n",
        "\n",
        "def elementos_unicos_comuns(lista1, lista2):\n",
        "    unicos = []\n",
        "    for numero in lista1:\n",
        "        if numero not in lista2 and numero not in unicos:\n",
        "            unicos.append(numero)\n",
        "\n",
        "    for numero in lista2:\n",
        "        if numero not in lista1 and numero not in unicos:\n",
        "            unicos.append(numero)\n",
        "    return unicos\n",
        "\n",
        "#12. Escreva uma função que receba uma lista e retorne uma lista contendo os elementos que aparecem mais de uma vez.\n",
        "\n",
        "def elementos_repetidos(lista):\n",
        "    repetidos = []\n",
        "    for numero in lista:\n",
        "        if lista.count(numero) > 1 and numero not in repetidos:\n",
        "            repetidos.append(numero)\n",
        "    return repetidos\n",
        "\n",
        "#13. Faça uma função que receba uma lista de números e retorne uma lista dos números pares.\n",
        "\n",
        "def numeros_pares(lista):\n",
        "    pares = []\n",
        "    for numero in lista:\n",
        "        if numero % 2 == 0:\n",
        "            pares.append(numero)\n",
        "    return pares\n",
        "\n",
        "#14. Escreva uma função que receba uma lista de números e um valor, e retorne uma lista com os índices dos elementos maiores que o valor.\n",
        "\n",
        "def indices_maiores_que_valor(lista, valor):\n",
        "    indices = []\n",
        "    for i in range(len(lista)):\n",
        "        if lista[i] > valor:\n",
        "            indices.append(i)\n",
        "    return indices\n",
        "\n",
        "#15. Crie uma função que receba uma lista de strings e retorne uma lista com o tamanho de cada string.\n",
        "\n",
        "def tamanho_strings(lista):\n",
        "    tamanhos = []\n",
        "    for string in lista:\n",
        "        tamanhos.append(len(string))\n",
        "    return tamanhos\n",
        "\n",
        "#16. Escreva uma função que receba uma lista de números e retorne uma lista contendo cada número elevado ao cubo.\n",
        "\n",
        "def cubo_lista(lista):\n",
        "    cubos = []\n",
        "    for numero in lista:\n",
        "        cubos.append(numero ** 3)\n",
        "    return cubos\n",
        "\n",
        "#17. Crie uma função que receba uma lista e retorne uma lista de todos os elementos únicos.\n",
        "\n",
        "def unico_numeros(lista):\n",
        "    unicos = []\n",
        "    for numero in lista:\n",
        "        if lista.count(numero) == 1:\n",
        "            unicos.append(numero)\n",
        "    return unicos\n",
        "\n",
        "#18. Escreva uma função que receba uma lista de strings e retorne uma lista contendo as strings que começam com uma letra maiúscula.\n",
        "\n",
        "def strings_maiusculas(lista):\n",
        "    maiusculas = []\n",
        "    for string in lista:\n",
        "        if string[0].isupper():\n",
        "            maiusculas.append(string)\n",
        "    return maiusculas\n",
        "\n",
        "#19. Faça uma função que receba uma lista de números e retorne uma lista contendo apenas os múltiplos de 3.\n",
        "\n",
        "def multiplos_de_3(lista):\n",
        "    multiplos = []\n",
        "    for numero in lista:\n",
        "        if numero % 3 == 0:\n",
        "            multiplos.append(numero)\n",
        "    return multiplos\n",
        "\n",
        "#20. Escreva uma função que receba duas listas e retorne uma lista com a interseção ordenada de forma crescente entre elas.\n",
        "\n",
        "def intersecao_ordenada(lista1, lista2):\n",
        "    intersecao = []\n",
        "    for numero in lista1:\n",
        "        if numero in lista2 and numero not in intersecao:\n",
        "            intersecao.append(numero)\n",
        "    return intersecao\n",
        "\n"
      ]
    },
    {
      "cell_type": "code",
      "source": [
        "#1. Crie uma função que receba uma lista de números e retorne uma lista contendo apenas os números ímpares.\n",
        "\n",
        "lista_de_numeros = [1, 2, 3, 4, 5, 6, 7, 8, 9, 10]\n",
        "print(numeros_impares(lista_de_numeros))\n"
      ],
      "metadata": {
        "colab": {
          "base_uri": "https://localhost:8080/"
        },
        "id": "aAAofYFUYKHN",
        "outputId": "6be86922-2884-42ec-e733-38de25ac3cb1"
      },
      "execution_count": null,
      "outputs": [
        {
          "output_type": "stream",
          "name": "stdout",
          "text": [
            "[1, 3, 5, 7, 9]\n"
          ]
        }
      ]
    },
    {
      "cell_type": "code",
      "source": [
        "#2. Escreva uma função que receba uma lista e retorne uma nova lista com o dobro de cada elemento.\n",
        "\n",
        "lista_de_numeros = [1, 2, 3, 4, 5, 6, 7, 8, 9, 10]\n",
        "print(dobro_lista(lista_de_numeros))"
      ],
      "metadata": {
        "colab": {
          "base_uri": "https://localhost:8080/"
        },
        "id": "3Q_lgG6jYiEy",
        "outputId": "5e63734e-b4bb-489d-a666-5270b2a2769c"
      },
      "execution_count": null,
      "outputs": [
        {
          "output_type": "stream",
          "name": "stdout",
          "text": [
            "[2, 4, 6, 8, 10, 12, 14, 16, 18, 20]\n"
          ]
        }
      ]
    },
    {
      "cell_type": "code",
      "source": [
        "#3. Faça uma função que receba uma lista e retorne uma lista sem duplicatas.\n",
        "\n",
        "lista_de_numeros = [1, 2, 2, 3, 4, 4, 5, 6, 6, 7, 8, 8, 9, 10, 10]\n",
        "print(sem_duplicatas(lista_de_numeros))"
      ],
      "metadata": {
        "colab": {
          "base_uri": "https://localhost:8080/"
        },
        "id": "2mXot_8SYm6K",
        "outputId": "58700f96-8246-44c6-af1b-9661da3e606f"
      },
      "execution_count": null,
      "outputs": [
        {
          "output_type": "stream",
          "name": "stdout",
          "text": [
            "[1, 2, 3, 4, 5, 6, 7, 8, 9, 10]\n"
          ]
        }
      ]
    },
    {
      "cell_type": "code",
      "source": [
        "#4. Crie uma função que receba uma lista e um valor divisor e retorne uma lista dos elementos que são divisíveis pelo divisor.\n",
        "\n",
        "lista_de_numeros = [1, 2, 3, 4, 5, 6, 7, 8, 9, 10]\n",
        "print(num_divisiveis(lista_de_numeros, 2))"
      ],
      "metadata": {
        "colab": {
          "base_uri": "https://localhost:8080/"
        },
        "id": "IGD5PEE0Y7yD",
        "outputId": "71f134a4-b064-4dc9-d62b-b2fd842f73f8"
      },
      "execution_count": null,
      "outputs": [
        {
          "output_type": "stream",
          "name": "stdout",
          "text": [
            "[2, 4, 6, 8, 10]\n"
          ]
        }
      ]
    },
    {
      "cell_type": "code",
      "source": [
        "#5. Escreva uma função que receba duas listas e retorne um conjunto com os elementos que aparecem em ambas.\n",
        "\n",
        "lista_01 = [1, 2, 3, 4, 5, 6, 7, 8, 9, 10]\n",
        "lista_02 = [2, 4, 6, 8, 10, 12, 14, 16, 18, 20]\n",
        "print(elementos_comuns(lista_01, lista_02))"
      ],
      "metadata": {
        "colab": {
          "base_uri": "https://localhost:8080/"
        },
        "id": "QOpYjgO2ZQ2U",
        "outputId": "64f0c372-f25b-4412-89c5-4913dadc3462"
      },
      "execution_count": null,
      "outputs": [
        {
          "output_type": "stream",
          "name": "stdout",
          "text": [
            "[2, 4, 6, 8, 10]\n"
          ]
        }
      ]
    },
    {
      "cell_type": "code",
      "source": [
        "#6. Crie uma função que receba uma lista e retorne uma nova lista com os elementos em ordem inversa.\n",
        "\n",
        "lista_de_numeros = [1, 2, 3, 4, 5, 6, 7, 8, 9, 10]\n",
        "print(lista_inversa(lista_de_numeros))"
      ],
      "metadata": {
        "colab": {
          "base_uri": "https://localhost:8080/"
        },
        "id": "56fB_FOFZm4u",
        "outputId": "f72fae44-1dda-4383-b542-77e0492319b0"
      },
      "execution_count": null,
      "outputs": [
        {
          "output_type": "stream",
          "name": "stdout",
          "text": [
            "[10, 9, 8, 7, 6, 5, 4, 3, 2, 1]\n"
          ]
        }
      ]
    },
    {
      "cell_type": "code",
      "source": [
        "#7. Escreva uma função que receba uma lista de números e retorne uma lista contendo o quadrado de cada número.\n",
        "\n",
        "lista_de_numeros = [1, 2, 3, 4, 5, 6, 7, 8, 9, 10]\n",
        "print(quadrados(lista_de_numeros))"
      ],
      "metadata": {
        "id": "EOUgd5h0ZzkR"
      },
      "execution_count": null,
      "outputs": []
    },
    {
      "cell_type": "code",
      "source": [
        "#8. Crie uma função que receba uma lista e um valor, e retorne uma lista com os elementos maiores que esse valor.\n",
        "\n",
        "lista_de_numeros = [1, 2, 3, 4, 5, 6, 7, 8, 9, 10]\n",
        "print(maiores_que_valor(lista_de_numeros, 5))"
      ],
      "metadata": {
        "colab": {
          "base_uri": "https://localhost:8080/"
        },
        "id": "9yZlXvfhaP42",
        "outputId": "ca7e3c5f-d581-4821-b82f-286f6985fafb"
      },
      "execution_count": null,
      "outputs": [
        {
          "output_type": "stream",
          "name": "stdout",
          "text": [
            "[6, 7, 8, 9, 10]\n"
          ]
        }
      ]
    },
    {
      "cell_type": "code",
      "source": [
        "#9. Escreva uma função que receba duas listas e retorne uma lista dos elementos que estão em apenas uma das listas.\n",
        "\n",
        "lista1 = [1, 2, 3, 4, 5]\n",
        "lista2 = [4, 5, 6, 7, 8]\n",
        "print(elementos_unicos(lista1, lista2))"
      ],
      "metadata": {
        "colab": {
          "base_uri": "https://localhost:8080/"
        },
        "id": "7kIHQHyDac99",
        "outputId": "358c16cf-5b49-4e85-8b0b-a9e2a1817474"
      },
      "execution_count": null,
      "outputs": [
        {
          "output_type": "stream",
          "name": "stdout",
          "text": [
            "[1, 2, 3, 6, 7, 8]\n"
          ]
        }
      ]
    },
    {
      "cell_type": "code",
      "source": [
        "#10. Faça uma função que receba uma lista e retorne um conjunto dos elementos únicos.\n",
        "\n",
        "lista_de_numeros = [1, 2, 3, 4, 4, 5, 6, 7, 8, 9, 9, 10]\n",
        "print(elementos_unicos(lista_de_numeros))"
      ],
      "metadata": {
        "colab": {
          "base_uri": "https://localhost:8080/"
        },
        "id": "uCBquX8lfRMz",
        "outputId": "32396bac-6ca7-4891-8f4d-07e90396a5c4"
      },
      "execution_count": null,
      "outputs": [
        {
          "output_type": "stream",
          "name": "stdout",
          "text": [
            "{1, 2, 3, 4, 5, 6, 7, 8, 9, 10}\n"
          ]
        }
      ]
    },
    {
      "cell_type": "code",
      "source": [
        "#11. Crie uma função que receba duas listas e retorne uma lista dos elementos únicos que estão em ambas.\n",
        "\n",
        "lista1 = [1, 2, 3, 4, 5]\n",
        "lista2 = [4, 5, 6, 7, 8]\n",
        "print(elementos_unicos_comuns(lista1, lista2))"
      ],
      "metadata": {
        "colab": {
          "base_uri": "https://localhost:8080/"
        },
        "id": "z8qlNLJ557we",
        "outputId": "46c8bbbf-f98c-4cd1-c3d3-3404000b6c62"
      },
      "execution_count": null,
      "outputs": [
        {
          "output_type": "stream",
          "name": "stdout",
          "text": [
            "[1, 2, 3, 6, 7, 8]\n"
          ]
        }
      ]
    },
    {
      "cell_type": "code",
      "source": [
        "#12. Escreva uma função que receba uma lista e retorne uma lista contendo os elementos que aparecem mais de uma vez.\n",
        "\n",
        "lista_de_numeros = [1, 2, 3, 4, 4, 5, 6, 7, 8, 9, 9, 10]\n",
        "print(elementos_repetidos(lista_de_numeros))"
      ],
      "metadata": {
        "colab": {
          "base_uri": "https://localhost:8080/"
        },
        "id": "QWqzkEVf6Bo8",
        "outputId": "898c490a-1654-4974-8ebc-fc3e17635210"
      },
      "execution_count": null,
      "outputs": [
        {
          "output_type": "stream",
          "name": "stdout",
          "text": [
            "[4, 9]\n"
          ]
        }
      ]
    },
    {
      "cell_type": "code",
      "source": [
        "#13. Faça uma função que receba uma lista de números e retorne uma lista dos números pares.\n",
        "\n",
        "lista_de_numeros = [1, 2, 3, 4, 5, 6, 7, 8, 9, 10]\n",
        "print(numeros_pares(lista_de_numeros))"
      ],
      "metadata": {
        "colab": {
          "base_uri": "https://localhost:8080/"
        },
        "id": "23EKm_Xg6N_l",
        "outputId": "663e6f6b-8fe8-45f0-e0ca-9350e8f4c331"
      },
      "execution_count": null,
      "outputs": [
        {
          "output_type": "stream",
          "name": "stdout",
          "text": [
            "[2, 4, 6, 8, 10]\n"
          ]
        }
      ]
    },
    {
      "cell_type": "code",
      "source": [
        "#14. Escreva uma função que receba uma lista de números e um valor, e retorne uma lista com os índices dos elementos maiores que o valor.\n",
        "\n",
        "lista_de_numeros = [1, 2, 3, 4, 5, 6, 7, 8, 9, 10]\n",
        "print(indices_maiores_que_valor(lista_de_numeros, 5))"
      ],
      "metadata": {
        "colab": {
          "base_uri": "https://localhost:8080/"
        },
        "id": "DTqKJpJR6TSM",
        "outputId": "f38b8b3d-3e43-46eb-812d-b321e781490d"
      },
      "execution_count": null,
      "outputs": [
        {
          "output_type": "stream",
          "name": "stdout",
          "text": [
            "[5, 6, 7, 8, 9]\n"
          ]
        }
      ]
    },
    {
      "cell_type": "code",
      "source": [
        "#15. Crie uma função que receba uma lista de strings e retorne uma lista com o tamanho de cada string.\n",
        "\n",
        "lista_de_strings = [\"Lucas\", \"Fernando\", \"Sheyla\", \"Tião\", \"Vilson\"]\n",
        "print(tamanho_strings(lista_de_strings))"
      ],
      "metadata": {
        "colab": {
          "base_uri": "https://localhost:8080/"
        },
        "id": "U8fdrIbQ6c_V",
        "outputId": "822ed316-509f-4b5e-a8f0-632960dc1ee0"
      },
      "execution_count": null,
      "outputs": [
        {
          "output_type": "stream",
          "name": "stdout",
          "text": [
            "[5, 8, 6, 4, 6]\n"
          ]
        }
      ]
    },
    {
      "cell_type": "code",
      "source": [
        "#16. Escreva uma função que receba uma lista de números e retorne uma lista contendo cada número elevado ao cubo.\n",
        "\n",
        "lista_de_numeros = [1, 2, 3, 4, 5, 6, 7, 8, 9, 10]\n",
        "print(cubo_lista(lista_de_numeros))"
      ],
      "metadata": {
        "id": "lyOtac146xzq",
        "colab": {
          "base_uri": "https://localhost:8080/"
        },
        "outputId": "26132641-c5cc-4498-f219-55d1267e7f26"
      },
      "execution_count": null,
      "outputs": [
        {
          "output_type": "stream",
          "name": "stdout",
          "text": [
            "[1, 8, 27, 64, 125, 216, 343, 512, 729, 1000]\n"
          ]
        }
      ]
    },
    {
      "cell_type": "code",
      "source": [
        "#17. Crie uma função que receba uma lista e retorne uma lista de todos os elementos únicos.\n",
        "\n",
        "lista_de_numeros = [1, 2, 3, 4, 4, 5, 6, 7, 8, 9, 9, 10]\n",
        "print(unico_numeros(lista_de_numeros))"
      ],
      "metadata": {
        "colab": {
          "base_uri": "https://localhost:8080/"
        },
        "id": "Wg3GCHYBLKUv",
        "outputId": "96c22d0c-a37d-4ce2-8bda-c65a860b94c7"
      },
      "execution_count": null,
      "outputs": [
        {
          "output_type": "stream",
          "name": "stdout",
          "text": [
            "[1, 2, 3, 5, 6, 7, 8, 10]\n"
          ]
        }
      ]
    },
    {
      "cell_type": "code",
      "source": [
        "#18. Escreva uma função que receba uma lista de strings e retorne uma lista contendo as strings que começam com uma letra maiúscula.\n",
        "\n",
        "lista_de_strings = [\"lucas\", \"Fernando\", \"sheyla\", \"Tião\", \"Vilson\"]\n",
        "print(strings_maiusculas(lista_de_strings))"
      ],
      "metadata": {
        "colab": {
          "base_uri": "https://localhost:8080/"
        },
        "id": "xYB6GILmLwXT",
        "outputId": "b765c075-cf26-4f53-e339-6a1681328d99"
      },
      "execution_count": null,
      "outputs": [
        {
          "output_type": "stream",
          "name": "stdout",
          "text": [
            "['Fernando', 'Tião', 'Vilson']\n"
          ]
        }
      ]
    },
    {
      "cell_type": "code",
      "source": [
        "#19. Faça uma função que receba uma lista de números e retorne uma lista contendo apenas os múltiplos de 3.\n",
        "\n",
        "lista_de_numeros = [1, 2, 3, 4, 5, 6, 7, 8, 9, 10]\n",
        "print(multiplos_de_3(lista_de_numeros))"
      ],
      "metadata": {
        "colab": {
          "base_uri": "https://localhost:8080/"
        },
        "id": "Gz0Ob5oZL6JP",
        "outputId": "69d06b66-2acc-4f1b-948c-907c673f3d33"
      },
      "execution_count": null,
      "outputs": [
        {
          "output_type": "stream",
          "name": "stdout",
          "text": [
            "[3, 6, 9]\n"
          ]
        }
      ]
    },
    {
      "cell_type": "code",
      "source": [
        "#20. Escreva uma função que receba duas listas e retorne uma lista com a interseção ordenada de forma crescente entre elas.\n",
        "\n",
        "lista1 = [1, 2, 3, 4, 5]\n",
        "lista2 = [4, 5, 6, 7, 8]\n",
        "print(intersecao_ordenada(lista1, lista2))"
      ],
      "metadata": {
        "colab": {
          "base_uri": "https://localhost:8080/"
        },
        "id": "wqqeaWSNMDxL",
        "outputId": "9485247c-d7eb-4fe6-eb10-fec418565313"
      },
      "execution_count": null,
      "outputs": [
        {
          "output_type": "stream",
          "name": "stdout",
          "text": [
            "[4, 5]\n"
          ]
        }
      ]
    }
  ]
}