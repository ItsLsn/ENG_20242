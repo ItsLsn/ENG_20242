{
  "nbformat": 4,
  "nbformat_minor": 0,
  "metadata": {
    "colab": {
      "provenance": [],
      "authorship_tag": "ABX9TyMb17lIZ5Qwy3YCHl5prGLN",
      "include_colab_link": true
    },
    "kernelspec": {
      "name": "python3",
      "display_name": "Python 3"
    },
    "language_info": {
      "name": "python"
    }
  },
  "cells": [
    {
      "cell_type": "markdown",
      "metadata": {
        "id": "view-in-github",
        "colab_type": "text"
      },
      "source": [
        "<a href=\"https://colab.research.google.com/github/ItsLsn/ENG_20242/blob/main/Atividade_03_Portef%C3%B3lio_Avaliativo.ipynb\" target=\"_parent\"><img src=\"https://colab.research.google.com/assets/colab-badge.svg\" alt=\"Open In Colab\"/></a>"
      ]
    },
    {
      "cell_type": "code",
      "execution_count": null,
      "metadata": {
        "colab": {
          "base_uri": "https://localhost:8080/"
        },
        "id": "U7zoQhzasMff",
        "outputId": "f53a4508-3454-44c4-d2d7-8969030be1bf"
      },
      "outputs": [
        {
          "output_type": "execute_result",
          "data": {
            "text/plain": [
              "[1, 4, 9, 16, 25]"
            ]
          },
          "metadata": {},
          "execution_count": 1
        }
      ],
      "source": [
        "#1 Dada uma lista de números inteiros, use uma função lambda para retornar uma lista com o quadrado de cada número.\n",
        "\n",
        "x = [1,2,3,4,5]\n",
        "\n",
        "quadrado = lambda x: x**2\n",
        "list(map(lambida,x))"
      ]
    },
    {
      "cell_type": "code",
      "source": [
        "#2 Dada uma lista de temperaturas em Celsius, use uma função lambda para convertê-las em Fahrenheit.\n",
        "\n",
        "Celsius = [39.2, 36.5, 37.3, 37.8]\n",
        "\n",
        "Fahrenheit = map(lambda x: (float(9)/5)*x + 32, Celsius)\n",
        "print (list(Fahrenheit))"
      ],
      "metadata": {
        "colab": {
          "base_uri": "https://localhost:8080/"
        },
        "id": "JjVVUvuYte_e",
        "outputId": "0d55b439-1a04-4816-de76-ff346dea31a8"
      },
      "execution_count": null,
      "outputs": [
        {
          "output_type": "stream",
          "name": "stdout",
          "text": [
            "[102.56, 97.7, 99.14, 100.03999999999999]\n"
          ]
        }
      ]
    },
    {
      "cell_type": "code",
      "source": [
        "#3 Dada uma lista de palavras, use uma função lambda para retornar uma lista com o comprimento de cada palavra.\n",
        "\n",
        "palavras = [\"arroz\", \"amarelo\", \"ponei\", \"feijao\", \"garrafa\"]\n",
        "\n",
        "quat = map(lambda x: len(x), palavras)\n",
        "print(list(quat))"
      ],
      "metadata": {
        "colab": {
          "base_uri": "https://localhost:8080/"
        },
        "id": "fknIGijXtrN2",
        "outputId": "386a0998-9ea2-4c9e-e257-a302d1e5a0ac"
      },
      "execution_count": null,
      "outputs": [
        {
          "output_type": "stream",
          "name": "stdout",
          "text": [
            "[5, 7, 5, 6, 7]\n"
          ]
        }
      ]
    },
    {
      "cell_type": "code",
      "source": [
        "#4 Use uma função lambda para dobrar os valores de uma lista de inteiros.\n",
        "\n",
        "x = [1,2,3,4]\n",
        "\n",
        "dobra = map(lambda x: x*2, x)\n",
        "print(list(dobra))"
      ],
      "metadata": {
        "colab": {
          "base_uri": "https://localhost:8080/"
        },
        "id": "8T9l7YyQwSF9",
        "outputId": "5b5f940d-8424-4f5e-9d18-79a45728b104"
      },
      "execution_count": null,
      "outputs": [
        {
          "output_type": "stream",
          "name": "stdout",
          "text": [
            "[2, 4, 6, 8]\n"
          ]
        }
      ]
    },
    {
      "cell_type": "code",
      "source": [
        "#5 Dada uma lista de nomes, use uma função lambda para adicionar o prefixo \"Sr./Sra.\" antes de cada nome.\n",
        "\n",
        "nomes = [\"Raissa\", \"Amanda\", \"Julia\", \"lucas\"]\n",
        "\n",
        "pronome = map(lambda x: \"Sr./Sra \" + x, nomes)\n",
        "print(list(pronome))"
      ],
      "metadata": {
        "colab": {
          "base_uri": "https://localhost:8080/"
        },
        "id": "RUaJm_OCwhWw",
        "outputId": "8ce65b10-16cb-4198-c19e-eea9d604d42a"
      },
      "execution_count": null,
      "outputs": [
        {
          "output_type": "stream",
          "name": "stdout",
          "text": [
            "['Sr./Sra Raissa', 'Sr./Sra Amanda', 'Sr./Sra Julia', 'Sr./Sra lucas']\n"
          ]
        }
      ]
    },
    {
      "cell_type": "code",
      "source": [
        "#6 Dada uma lista de números, use uma função lambda para retornar apenas os números pares.\n",
        "\n",
        "pares = [1,2,3,4,5,6,7,8,9,10]\n",
        "\n",
        "pares = filter(lambda x: x%2 == 0, pares)\n",
        "print(list(pares))"
      ],
      "metadata": {
        "colab": {
          "base_uri": "https://localhost:8080/"
        },
        "id": "eGcjsv99xuUY",
        "outputId": "13abfc75-c618-4ced-ee89-532a048e0b14"
      },
      "execution_count": null,
      "outputs": [
        {
          "output_type": "stream",
          "name": "stdout",
          "text": [
            "[2, 4, 6, 8, 10]\n"
          ]
        }
      ]
    },
    {
      "cell_type": "code",
      "source": [
        "#7 Dada uma lista de palavras, use uma função lambda para retornar apenas as palavras com menos de 5 caracteres.\n",
        "\n",
        "palavras = [\"arroz\", \"amarelo\", \"ponei\", \"feijao\", \"garrafa\", \"oi\"]\n",
        "\n",
        "palavras = filter(lambda x: len(x) < 5, palavras)\n",
        "print(list(palavras))"
      ],
      "metadata": {
        "colab": {
          "base_uri": "https://localhost:8080/"
        },
        "id": "7m9XxltezxbR",
        "outputId": "995dc2d6-0da1-4477-99d8-0402be7e3608"
      },
      "execution_count": null,
      "outputs": [
        {
          "output_type": "stream",
          "name": "stdout",
          "text": [
            "['oi']\n"
          ]
        }
      ]
    },
    {
      "cell_type": "code",
      "source": [
        "#8 Dada uma lista de idades, use uma função lambda para retornar apenas as idades maiores que 18.\n",
        "\n",
        "idades = [16, 17, 18, 19,]\n",
        "\n",
        "maior_idade = filter(lambda x: x > 18, idades)\n",
        "print(list(maior_idade))"
      ],
      "metadata": {
        "colab": {
          "base_uri": "https://localhost:8080/"
        },
        "id": "BaYBXl4e0TMY",
        "outputId": "31a9a799-b500-467c-cb5c-4572b353847f"
      },
      "execution_count": null,
      "outputs": [
        {
          "output_type": "stream",
          "name": "stdout",
          "text": [
            "[19]\n"
          ]
        }
      ]
    },
    {
      "cell_type": "code",
      "source": [
        "#9 Dada uma lista de strings, use uma função lambda para retornar as strings que começam com a letra \"a\".\n",
        "\n",
        "strings = ['arroz', 'amarelo', 'ponei', 'feijao', 'garrafa']\n",
        "\n",
        "a = filter(lambda x: x[0] == 'a', strings)\n",
        "print(list(a))"
      ],
      "metadata": {
        "colab": {
          "base_uri": "https://localhost:8080/"
        },
        "id": "jZoou56M0vK0",
        "outputId": "22292cf4-ba02-4efb-db0c-1c28d2077baf"
      },
      "execution_count": null,
      "outputs": [
        {
          "output_type": "stream",
          "name": "stdout",
          "text": [
            "['arroz', 'amarelo']\n"
          ]
        }
      ]
    },
    {
      "cell_type": "code",
      "source": [
        "#10 Dada uma lista de números inteiros, use uma função lambda para retornar apenas os números positivos.\n",
        "\n",
        "numeros_inteiros = [-5,-4,-3,-2,-1,0,1,2,3,4,5]\n",
        "\n",
        "positivos = filter(lambda x: x > 0, numeros_inteiros)\n",
        "print(list(positivos))"
      ],
      "metadata": {
        "colab": {
          "base_uri": "https://localhost:8080/"
        },
        "id": "HRlRqu6T1E4c",
        "outputId": "8f714ae3-7bac-4a6e-b19f-9e8db3579403"
      },
      "execution_count": null,
      "outputs": [
        {
          "output_type": "stream",
          "name": "stdout",
          "text": [
            "[1, 2, 3, 4, 5]\n"
          ]
        }
      ]
    },
    {
      "cell_type": "code",
      "source": [
        "#11 Use uma função lambda para calcular a soma de uma lista de números.\n",
        "\n",
        "numeros = [1,2,3,4,5]\n",
        "\n",
        "soma = sum(map(lambda x: x, numeros))\n",
        "print(soma)"
      ],
      "metadata": {
        "id": "I_evPXJ-1dqs",
        "colab": {
          "base_uri": "https://localhost:8080/"
        },
        "outputId": "3a6f3e93-e78e-4a91-a709-dad40fde482a"
      },
      "execution_count": 14,
      "outputs": [
        {
          "output_type": "stream",
          "name": "stdout",
          "text": [
            "15\n"
          ]
        }
      ]
    },
    {
      "cell_type": "code",
      "source": [
        "#13 Use uma função lambda para encontrar o maior número em uma lista.\n",
        "\n",
        "numeros = [1,2,3,4,5]\n",
        "\n",
        "maior = max(map(lambda x: x, numeros))\n",
        "print(maior)"
      ],
      "metadata": {
        "colab": {
          "base_uri": "https://localhost:8080/"
        },
        "id": "cfBQ4zti8nbl",
        "outputId": "540a6351-e0ea-4d9f-82fb-9984c9eb04d0"
      },
      "execution_count": 15,
      "outputs": [
        {
          "output_type": "stream",
          "name": "stdout",
          "text": [
            "5\n"
          ]
        }
      ]
    },
    {
      "cell_type": "code",
      "source": [
        "#14 Use uma função lambda para concatenar uma lista de palavras em uma única string separada por espaços.\n",
        "\n",
        "strings = ['arroz', 'amarelo', 'ponei', 'feijao', 'garrafa']\n",
        "\n",
        "concatenar = ' '.join(map(lambda x: x, strings))\n",
        "print(concatenar)"
      ],
      "metadata": {
        "colab": {
          "base_uri": "https://localhost:8080/"
        },
        "id": "C3J9mWf08s-5",
        "outputId": "1a32654a-22b0-40df-a874-7f9781689f3a"
      },
      "execution_count": 16,
      "outputs": [
        {
          "output_type": "stream",
          "name": "stdout",
          "text": [
            "arroz amarelo ponei feijao garrafa\n"
          ]
        }
      ]
    },
    {
      "cell_type": "code",
      "source": [
        "#15 Use uma função lambda para somar os dígitos de uma lista de inteiros, onde cada número é tratado individualmente.\n",
        "\n",
        "numeros = [1,2,3,4,5]\n",
        "\n",
        "soma = sum(map(lambda x: x, numeros))\n",
        "print(soma)"
      ],
      "metadata": {
        "colab": {
          "base_uri": "https://localhost:8080/"
        },
        "id": "lnPpjshb8yAU",
        "outputId": "54b2f532-051e-4a23-a572-2a3957bb6dd1"
      },
      "execution_count": 17,
      "outputs": [
        {
          "output_type": "stream",
          "name": "stdout",
          "text": [
            "15\n"
          ]
        }
      ]
    },
    {
      "cell_type": "code",
      "source": [
        "#16 Use uma função lambda para dobrar os números de uma lista e retornar apenas os números que são maiores que 20.\n",
        "\n",
        "numeros = [1,2,3,4,5,22]\n",
        "\n",
        "dobra = filter(lambda x: x*2 > 20, numeros)\n",
        "print(list(dobra))"
      ],
      "metadata": {
        "colab": {
          "base_uri": "https://localhost:8080/"
        },
        "id": "iUk5PABx86Yw",
        "outputId": "beaadc75-2f8b-45f1-813c-c49409507950"
      },
      "execution_count": 21,
      "outputs": [
        {
          "output_type": "stream",
          "name": "stdout",
          "text": [
            "[22]\n"
          ]
        }
      ]
    },
    {
      "cell_type": "code",
      "source": [
        "#17 Dada uma lista de palavras, use uma função lambda para encontrar todas as palavras que contêm a letra \"e\" e conte quantas são.\n",
        "\n",
        "strings = ['arroz', 'amarelo', 'ponei', 'feijao', 'garrafa']\n",
        "\n",
        "e = len(list(filter(lambda x: 'e' in x, strings)))\n",
        "print(e)"
      ],
      "metadata": {
        "colab": {
          "base_uri": "https://localhost:8080/"
        },
        "id": "pwyXy7PV9CfV",
        "outputId": "1e235704-a301-488e-b2ea-271824475227"
      },
      "execution_count": 22,
      "outputs": [
        {
          "output_type": "stream",
          "name": "stdout",
          "text": [
            "3\n"
          ]
        }
      ]
    },
    {
      "cell_type": "code",
      "source": [
        "#18 Converta uma lista de temperaturas de Fahrenheit para Celsius usando uma função lambda e, em seguida, retorne apenas as temperaturas abaixo de 20°C.\n",
        "\n",
        "temp = [10, 20, 3, 55]\n",
        "\n",
        "celsius = map(lambda x: (float(9)/5)*x + 32, temp)\n",
        "print(list(celsius))"
      ],
      "metadata": {
        "colab": {
          "base_uri": "https://localhost:8080/"
        },
        "id": "cob1jmN39MHc",
        "outputId": "220497c8-e1f3-48cf-d097-e54341897b51"
      },
      "execution_count": 25,
      "outputs": [
        {
          "output_type": "stream",
          "name": "stdout",
          "text": [
            "[50.0, 68.0, 37.4, 131.0]\n"
          ]
        }
      ]
    },
    {
      "cell_type": "code",
      "source": [
        "#19 Use uma função lambda para selecionar apenas os números pares de uma lista e, em seguida, somar esses números.\n",
        "\n",
        "numeros = [1,2,3,4,5,6,7,8,9,10]\n",
        "\n",
        "soma = sum(filter(lambda x: x%2 == 0, numeros))\n",
        "print(soma)"
      ],
      "metadata": {
        "colab": {
          "base_uri": "https://localhost:8080/"
        },
        "id": "SgndLscn9kWj",
        "outputId": "ca19e617-1f43-438b-ba37-eb8b63de9ed9"
      },
      "execution_count": 26,
      "outputs": [
        {
          "output_type": "stream",
          "name": "stdout",
          "text": [
            "30\n"
          ]
        }
      ]
    },
    {
      "cell_type": "code",
      "source": [
        "#20 Use uma função lambda para substituir números negativos de uma lista por 0 e manter os positivos.\n",
        "\n",
        "numeros = [-5,-4,-3,-2,-1,0,1,2,3,4,5]\n",
        "\n",
        "positivos = list(map(lambda x: 0 if x < 0 else x, numeros))\n",
        "print(positivos)"
      ],
      "metadata": {
        "colab": {
          "base_uri": "https://localhost:8080/"
        },
        "id": "21Joc1jl9wMn",
        "outputId": "d3f1448f-c7fd-48d5-fd7b-9b830758a652"
      },
      "execution_count": 27,
      "outputs": [
        {
          "output_type": "stream",
          "name": "stdout",
          "text": [
            "[0, 0, 0, 0, 0, 0, 1, 2, 3, 4, 5]\n"
          ]
        }
      ]
    },
    {
      "cell_type": "code",
      "source": [
        "#21 Use uma função lambda para retornar a lista de cubos de cada elemento em uma lista de números.\n",
        "\n",
        "numeros = [1,2,3,4,5]\n",
        "\n",
        "cubos = list(map(lambda x: x**3, numeros))\n",
        "print(cubos)"
      ],
      "metadata": {
        "colab": {
          "base_uri": "https://localhost:8080/"
        },
        "id": "05nqZjY691Db",
        "outputId": "a5422f79-f1bc-4dcb-a093-23a072b77e9c"
      },
      "execution_count": 28,
      "outputs": [
        {
          "output_type": "stream",
          "name": "stdout",
          "text": [
            "[1, 8, 27, 64, 125]\n"
          ]
        }
      ]
    },
    {
      "cell_type": "code",
      "source": [
        "#22 Use uma função lambda para verificar se um número dado é primo (retornando True ou False).\n",
        "\n",
        "muneros = 5\n",
        "\n",
        "primo = lambda x: False if x%2 == 0 else True\n",
        "print(primo(muneros))"
      ],
      "metadata": {
        "colab": {
          "base_uri": "https://localhost:8080/"
        },
        "id": "MjKnVpzQ9-K6",
        "outputId": "2f78643b-a60b-4b99-a202-c61f2ec01bc8"
      },
      "execution_count": 49,
      "outputs": [
        {
          "output_type": "stream",
          "name": "stdout",
          "text": [
            "True\n"
          ]
        }
      ]
    },
    {
      "cell_type": "code",
      "source": [
        "#23 Use uma função lambda para dividir cada elemento de uma lista por 5 e retornar a nova lista.\n",
        "\n",
        "numeros = [1,2,3,4,5]\n",
        "\n",
        "divisao = list(map(lambda x: x/5, numeros))\n",
        "print(divisao)"
      ],
      "metadata": {
        "colab": {
          "base_uri": "https://localhost:8080/"
        },
        "id": "HaXxXNxxAUiu",
        "outputId": "25a60236-4759-4a0a-964e-3a28913d38ec"
      },
      "execution_count": 36,
      "outputs": [
        {
          "output_type": "stream",
          "name": "stdout",
          "text": [
            "[0.2, 0.4, 0.6, 0.8, 1.0]\n"
          ]
        }
      ]
    },
    {
      "cell_type": "code",
      "source": [
        "#24 Use uma função lambda para remover todas as vogais de uma string dada.\n",
        "\n",
        "string = 'arroz'\n",
        "\n",
        "sem_vogais = ''.join(filter(lambda x: x not in 'aeiouAEIOU', string))\n",
        "print(sem_vogais)"
      ],
      "metadata": {
        "colab": {
          "base_uri": "https://localhost:8080/"
        },
        "id": "OKuTftZKAae0",
        "outputId": "ae06a650-b322-426c-f3d3-923da56b06ac"
      },
      "execution_count": 37,
      "outputs": [
        {
          "output_type": "stream",
          "name": "stdout",
          "text": [
            "rrz\n"
          ]
        }
      ]
    },
    {
      "cell_type": "code",
      "source": [
        "#25 Use uma função lambda para converter todas as palavras em uma lista para letras maiúsculas.\n",
        "\n",
        "strings = ['arroz', 'amarelo', 'ponei', 'feijao', 'garrafa']\n",
        "\n",
        "maiusculas = list(map(lambda x: x.upper(), strings))\n",
        "print(maiusculas)"
      ],
      "metadata": {
        "colab": {
          "base_uri": "https://localhost:8080/"
        },
        "id": "t-K3DDQEAhb_",
        "outputId": "a04e54fa-56e9-4609-a33b-b25cddb70b04"
      },
      "execution_count": 38,
      "outputs": [
        {
          "output_type": "stream",
          "name": "stdout",
          "text": [
            "['ARROZ', 'AMARELO', 'PONEI', 'FEIJAO', 'GARRAFA']\n"
          ]
        }
      ]
    },
    {
      "cell_type": "code",
      "source": [
        "#26 Use uma função lambda para retornar apenas os números negativos de uma lista de inteiros.\n",
        "\n",
        "numeros = [-5,-4,-3,-2,-1,0,1,2,3,4,5]\n",
        "\n",
        "negativos = list(filter(lambda x: x < 0, numeros))\n",
        "print(negativos)"
      ],
      "metadata": {
        "colab": {
          "base_uri": "https://localhost:8080/"
        },
        "id": "dA6bQgnpAlkf",
        "outputId": "21abf015-4300-4c88-d731-5982c9869951"
      },
      "execution_count": 39,
      "outputs": [
        {
          "output_type": "stream",
          "name": "stdout",
          "text": [
            "[-5, -4, -3, -2, -1]\n"
          ]
        }
      ]
    },
    {
      "cell_type": "code",
      "source": [
        "#27 Use uma função lambda para converter todos os números de uma lista para seus valores absolutos.\n",
        "\n",
        "numeros = [-5,-4,-3,-2,-1,0,1,2,3,4,5]\n",
        "\n",
        "absolutos = list(map(lambda x: abs(x), numeros))\n",
        "print(absolutos)"
      ],
      "metadata": {
        "colab": {
          "base_uri": "https://localhost:8080/"
        },
        "id": "qtZ6lMUtAqNO",
        "outputId": "bd49013d-abbe-41fc-cd87-0f7e3240f8a5"
      },
      "execution_count": 40,
      "outputs": [
        {
          "output_type": "stream",
          "name": "stdout",
          "text": [
            "[5, 4, 3, 2, 1, 0, 1, 2, 3, 4, 5]\n"
          ]
        }
      ]
    },
    {
      "cell_type": "code",
      "source": [
        "#28 Use uma função lambda para retornar uma lista com o resto da divisão de cada elemento por 3.\n",
        "\n",
        "numeros = [1,2,3,4,5]\n",
        "\n",
        "resto = list(map(lambda x: x%3, numeros))\n",
        "print(resto)"
      ],
      "metadata": {
        "colab": {
          "base_uri": "https://localhost:8080/"
        },
        "id": "3KriVzJkAwSD",
        "outputId": "f22679ea-e053-4f70-d3d3-2d7e316fc317"
      },
      "execution_count": 42,
      "outputs": [
        {
          "output_type": "stream",
          "name": "stdout",
          "text": [
            "[1, 2, 0, 1, 2]\n"
          ]
        }
      ]
    },
    {
      "cell_type": "code",
      "source": [
        "#29 Dada uma lista de números, use uma função lambda para multiplicar cada elemento pelo seu índice.\n",
        "\n",
        "numeros = [1,2,3,4,5]\n",
        "\n",
        "multiplicacao = list(map(lambda x, y: x*y, numeros, range(len(numeros))))\n",
        "print(multiplicacao)"
      ],
      "metadata": {
        "colab": {
          "base_uri": "https://localhost:8080/"
        },
        "id": "ZcppWj3kA0d6",
        "outputId": "48517cc7-e96e-4665-83fa-25eed9d396d9"
      },
      "execution_count": 43,
      "outputs": [
        {
          "output_type": "stream",
          "name": "stdout",
          "text": [
            "[0, 2, 6, 12, 20]\n"
          ]
        }
      ]
    },
    {
      "cell_type": "code",
      "source": [
        "#30 Use uma função lambda para verificar se uma palavra dada é um palíndromo (retornando True ou False).\n",
        "\n",
        "string = 'arroz'\n",
        "\n",
        "palindromo = lambda x: x == x[::-1]\n",
        "print(palindromo(string))"
      ],
      "metadata": {
        "colab": {
          "base_uri": "https://localhost:8080/"
        },
        "id": "kDl8dLKuA6d5",
        "outputId": "78aaae52-8670-45dd-806f-675560e6e3fd"
      },
      "execution_count": 44,
      "outputs": [
        {
          "output_type": "stream",
          "name": "stdout",
          "text": [
            "False\n"
          ]
        }
      ]
    }
  ]
}