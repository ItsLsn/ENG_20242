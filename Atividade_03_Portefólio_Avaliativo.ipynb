{
  "nbformat": 4,
  "nbformat_minor": 0,
  "metadata": {
    "colab": {
      "provenance": [],
      "authorship_tag": "ABX9TyPVI4Bv06jkl3yaoCEDi7Vq",
      "include_colab_link": true
    },
    "kernelspec": {
      "name": "python3",
      "display_name": "Python 3"
    },
    "language_info": {
      "name": "python"
    }
  },
  "cells": [
    {
      "cell_type": "markdown",
      "metadata": {
        "id": "view-in-github",
        "colab_type": "text"
      },
      "source": [
        "<a href=\"https://colab.research.google.com/github/ItsLsn/ENG_20242/blob/main/Atividade_03_Portef%C3%B3lio_Avaliativo.ipynb\" target=\"_parent\"><img src=\"https://colab.research.google.com/assets/colab-badge.svg\" alt=\"Open In Colab\"/></a>"
      ]
    },
    {
      "cell_type": "code",
      "execution_count": 1,
      "metadata": {
        "colab": {
          "base_uri": "https://localhost:8080/"
        },
        "id": "U7zoQhzasMff",
        "outputId": "f53a4508-3454-44c4-d2d7-8969030be1bf"
      },
      "outputs": [
        {
          "output_type": "execute_result",
          "data": {
            "text/plain": [
              "[1, 4, 9, 16, 25]"
            ]
          },
          "metadata": {},
          "execution_count": 1
        }
      ],
      "source": [
        "#1 Dada uma lista de números inteiros, use uma função lambda para retornar uma lista com o quadrado de cada número.\n",
        "\n",
        "x = [1,2,3,4,5]\n",
        "\n",
        "quadrado = lambda x: x**2\n",
        "list(map(lambida,x))"
      ]
    },
    {
      "cell_type": "code",
      "source": [
        "#2 Dada uma lista de temperaturas em Celsius, use uma função lambda para convertê-las em Fahrenheit.\n",
        "\n",
        "Celsius = [39.2, 36.5, 37.3, 37.8]\n",
        "\n",
        "Fahrenheit = map(lambda x: (float(9)/5)*x + 32, Celsius)\n",
        "print (list(Fahrenheit))"
      ],
      "metadata": {
        "colab": {
          "base_uri": "https://localhost:8080/"
        },
        "id": "JjVVUvuYte_e",
        "outputId": "0d55b439-1a04-4816-de76-ff346dea31a8"
      },
      "execution_count": 2,
      "outputs": [
        {
          "output_type": "stream",
          "name": "stdout",
          "text": [
            "[102.56, 97.7, 99.14, 100.03999999999999]\n"
          ]
        }
      ]
    },
    {
      "cell_type": "code",
      "source": [
        "#3 Dada uma lista de palavras, use uma função lambda para retornar uma lista com o comprimento de cada palavra.\n",
        "\n",
        "palavras = [\"arroz\", \"amarelo\", \"ponei\", \"feijao\", \"garrafa\"]\n",
        "\n",
        "quat = map(lambda x: len(x), palavras)\n",
        "print(list(quat))"
      ],
      "metadata": {
        "colab": {
          "base_uri": "https://localhost:8080/"
        },
        "id": "fknIGijXtrN2",
        "outputId": "386a0998-9ea2-4c9e-e257-a302d1e5a0ac"
      },
      "execution_count": 14,
      "outputs": [
        {
          "output_type": "stream",
          "name": "stdout",
          "text": [
            "[5, 7, 5, 6, 7]\n"
          ]
        }
      ]
    },
    {
      "cell_type": "code",
      "source": [
        "#4 Use uma função lambda para dobrar os valores de uma lista de inteiros.\n",
        "\n",
        "x = [1,2,3,4]\n",
        "\n",
        "dobra = map(lambda x: x*2, x)\n",
        "print(list(dobra))"
      ],
      "metadata": {
        "colab": {
          "base_uri": "https://localhost:8080/"
        },
        "id": "8T9l7YyQwSF9",
        "outputId": "5b5f940d-8424-4f5e-9d18-79a45728b104"
      },
      "execution_count": 15,
      "outputs": [
        {
          "output_type": "stream",
          "name": "stdout",
          "text": [
            "[2, 4, 6, 8]\n"
          ]
        }
      ]
    },
    {
      "cell_type": "code",
      "source": [
        "#5 Dada uma lista de nomes, use uma função lambda para adicionar o prefixo \"Sr./Sra.\" antes de cada nome.\n",
        "\n",
        "nomes = [\"Raissa\", \"Amanda\", \"Julia\", \"lucas\"]\n",
        "\n",
        "pronome = map(lambda x: \"Sr./Sra \" + x, nomes)\n",
        "print(list(pronome))"
      ],
      "metadata": {
        "colab": {
          "base_uri": "https://localhost:8080/"
        },
        "id": "RUaJm_OCwhWw",
        "outputId": "8ce65b10-16cb-4198-c19e-eea9d604d42a"
      },
      "execution_count": 18,
      "outputs": [
        {
          "output_type": "stream",
          "name": "stdout",
          "text": [
            "['Sr./Sra Raissa', 'Sr./Sra Amanda', 'Sr./Sra Julia', 'Sr./Sra lucas']\n"
          ]
        }
      ]
    },
    {
      "cell_type": "code",
      "source": [
        "#6 Dada uma lista de números, use uma função lambda para retornar apenas os números pares.\n",
        "\n",
        "pares = [1,2,3,4,5,6,7,8,9,10]\n",
        "\n",
        "pares = filter(lambda x: x%2 == 0, pares)\n",
        "print(list(pares))"
      ],
      "metadata": {
        "colab": {
          "base_uri": "https://localhost:8080/"
        },
        "id": "eGcjsv99xuUY",
        "outputId": "13abfc75-c618-4ced-ee89-532a048e0b14"
      },
      "execution_count": 33,
      "outputs": [
        {
          "output_type": "stream",
          "name": "stdout",
          "text": [
            "[2, 4, 6, 8, 10]\n"
          ]
        }
      ]
    },
    {
      "cell_type": "code",
      "source": [
        "#7 Dada uma lista de palavras, use uma função lambda para retornar apenas as palavras com menos de 5 caracteres.\n",
        "\n",
        "palavras = [\"arroz\", \"amarelo\", \"ponei\", \"feijao\", \"garrafa\", \"oi\"]\n",
        "\n",
        "palavras = filter(lambda x: len(x) < 5, palavras)\n",
        "print(list(palavras))"
      ],
      "metadata": {
        "colab": {
          "base_uri": "https://localhost:8080/"
        },
        "id": "7m9XxltezxbR",
        "outputId": "995dc2d6-0da1-4477-99d8-0402be7e3608"
      },
      "execution_count": 35,
      "outputs": [
        {
          "output_type": "stream",
          "name": "stdout",
          "text": [
            "['oi']\n"
          ]
        }
      ]
    },
    {
      "cell_type": "code",
      "source": [
        "#8 Dada uma lista de idades, use uma função lambda para retornar apenas as idades maiores que 18.\n",
        "\n",
        "idades = [16, 17, 18, 19,]\n",
        "\n",
        "maior_idade = filter(lambda x: x > 18, idades)\n",
        "print(list(maior_idade))"
      ],
      "metadata": {
        "colab": {
          "base_uri": "https://localhost:8080/"
        },
        "id": "BaYBXl4e0TMY",
        "outputId": "31a9a799-b500-467c-cb5c-4572b353847f"
      },
      "execution_count": 40,
      "outputs": [
        {
          "output_type": "stream",
          "name": "stdout",
          "text": [
            "[19]\n"
          ]
        }
      ]
    },
    {
      "cell_type": "code",
      "source": [
        "#9 Dada uma lista de strings, use uma função lambda para retornar as strings que começam com a letra \"a\".\n",
        "\n",
        "strings = ['arroz', 'amarelo', 'ponei', 'feijao', 'garrafa']\n",
        "\n",
        "a = filter(lambda x: x[0] == 'a', strings)\n",
        "print(list(a))"
      ],
      "metadata": {
        "colab": {
          "base_uri": "https://localhost:8080/"
        },
        "id": "jZoou56M0vK0",
        "outputId": "22292cf4-ba02-4efb-db0c-1c28d2077baf"
      },
      "execution_count": 41,
      "outputs": [
        {
          "output_type": "stream",
          "name": "stdout",
          "text": [
            "['arroz', 'amarelo']\n"
          ]
        }
      ]
    },
    {
      "cell_type": "code",
      "source": [
        "#10 Dada uma lista de números inteiros, use uma função lambda para retornar apenas os números positivos.\n",
        "\n",
        "numeros_inteiros = [-5,-4,-3,-2,-1,0,1,2,3,4,5]\n",
        "\n",
        "positivos = filter(lambda x: x > 0, numeros_inteiros)\n",
        "print(list(positivos))"
      ],
      "metadata": {
        "colab": {
          "base_uri": "https://localhost:8080/"
        },
        "id": "HRlRqu6T1E4c",
        "outputId": "8f714ae3-7bac-4a6e-b19f-9e8db3579403"
      },
      "execution_count": 43,
      "outputs": [
        {
          "output_type": "stream",
          "name": "stdout",
          "text": [
            "[1, 2, 3, 4, 5]\n"
          ]
        }
      ]
    },
    {
      "cell_type": "code",
      "source": [],
      "metadata": {
        "id": "I_evPXJ-1dqs"
      },
      "execution_count": null,
      "outputs": []
    }
  ]
}