{
  "cells": [
    {
      "cell_type": "markdown",
      "metadata": {
        "id": "view-in-github",
        "colab_type": "text"
      },
      "source": [
        "<a href=\"https://colab.research.google.com/github/ItsLsn/ENG_20242/blob/main/AulasDeLabDeProgramacao.ipynb\" target=\"_parent\"><img src=\"https://colab.research.google.com/assets/colab-badge.svg\" alt=\"Open In Colab\"/></a>"
      ]
    },
    {
      "cell_type": "markdown",
      "metadata": {
        "id": "bVbdvxkEc-dQ"
      },
      "source": [
        "Aula 01"
      ]
    },
    {
      "cell_type": "code",
      "execution_count": null,
      "metadata": {
        "id": "2F42s8mYJ3jW"
      },
      "outputs": [],
      "source": [
        "b= int(input('digite o primeiro numero: '))\n",
        "c= int(input('digete o segundo numero: '))\n",
        "print(f'A soma é {b+c} ,a subtração {b-c} , a divisao é {b/c} e a multiplicacao é {b*c}')\n",
        "print('Meus Parabens')\n",
        "print('Halo world')"
      ]
    },
    {
      "cell_type": "markdown",
      "metadata": {
        "id": "gOOyXaA1c_rX"
      },
      "source": [
        "Aula 02"
      ]
    },
    {
      "cell_type": "code",
      "execution_count": null,
      "metadata": {
        "colab": {
          "base_uri": "https://localhost:8080/"
        },
        "id": "AWQvmwhOc8Eh",
        "outputId": "d3613461-7478-4618-de22-a0f327158473"
      },
      "outputs": [
        {
          "name": "stdout",
          "output_type": "stream",
          "text": [
            "digite o primeiro numero: 69\n",
            "digete o segundo numero: 145\n",
            "A soma de 69 + 145 = 214\n"
          ]
        }
      ],
      "source": [
        "#1 - crie um programa em pyton que faça a leitura de dois numeros e realize a sua soma.\n",
        "b= int(input('digite o primeiro numero: '))\n",
        "c= int(input('digete o segundo numero: '))\n",
        "print(f'A soma de {b} + {c} = {b+c}')"
      ]
    },
    {
      "cell_type": "code",
      "execution_count": null,
      "metadata": {
        "colab": {
          "base_uri": "https://localhost:8080/"
        },
        "id": "n8S6vtdXeiLj",
        "outputId": "c245cb4c-6aea-4589-91f1-908eeb832d6a"
      },
      "outputs": [
        {
          "name": "stdout",
          "output_type": "stream",
          "text": [
            "digite o primeiro numero: 120\n",
            "O dobro de 120 é 240\n"
          ]
        }
      ],
      "source": [
        "#2 - crie um progarma em pyton que calcule o dobrom em un numero digitado pelo usuario.\n",
        "n1 = int(input('digite o primeiro numero: '))\n",
        "print(f'O dobro de {n1} é {n1*2}')"
      ]
    },
    {
      "cell_type": "code",
      "execution_count": null,
      "metadata": {
        "colab": {
          "base_uri": "https://localhost:8080/"
        },
        "id": "DOsONbjaeyj7",
        "outputId": "af70b19e-7073-4664-8b96-9e3019486e6d"
      },
      "outputs": [
        {
          "name": "stdout",
          "output_type": "stream",
          "text": [
            "Digite seu nome:joselene\n",
            "Digite sua idade:59\n",
            "Halo meu nome é joselene e eu tenho 59 anos.\n"
          ]
        }
      ],
      "source": [
        "#3 - crie um programa em pyton que faça uma frase customisada com o nome e idade digitado pelo usuario.\n",
        "nome = input('Digite seu nome:')\n",
        "idade = int(input('Digite sua idade:'))\n",
        "print(f'Halo meu nome é {nome} e eu tenho {idade} anos.')"
      ]
    },
    {
      "cell_type": "code",
      "execution_count": null,
      "metadata": {
        "colab": {
          "base_uri": "https://localhost:8080/"
        },
        "id": "dwpUZosFfMji",
        "outputId": "3df6945f-b927-4c08-e56d-8c76138ee0e3"
      },
      "outputs": [
        {
          "name": "stdout",
          "output_type": "stream",
          "text": [
            "digite a nota 01:9.5\n",
            "digite a nota 02:7.3\n",
            "digite a nota 03:8\n",
            "A media é de 8.266666666666667\n"
          ]
        }
      ],
      "source": [
        "#4 - crie um programa em pyton que faça a leitura de tres notas e faça a media de notas.\n",
        "nota01 = float(input('digite a nota 01:'))\n",
        "nota02 = float(input('digite a nota 02:'))\n",
        "nota03 = float(input('digite a nota 03:'))\n",
        "nota = nota01+nota02+nota03\n",
        "print(f'A media é de {nota/3}')"
      ]
    },
    {
      "cell_type": "code",
      "execution_count": null,
      "metadata": {
        "colab": {
          "base_uri": "https://localhost:8080/"
        },
        "id": "2q67PacZfgXq",
        "outputId": "2e2aeb85-4127-4ff4-b2fe-08a49967dca7"
      },
      "outputs": [
        {
          "name": "stdout",
          "output_type": "stream",
          "text": [
            "digite um numero inteiro:20\n",
            "digite um numero inteiro:10\n",
            "O resultado dessa divisao é 2.0\n"
          ]
        }
      ],
      "source": [
        " #5 - crie um programa em que caucule a divisao de dois numeros.\n",
        " b=int(input('digite um numero inteiro:'))\n",
        " c=int(input('digite um numero inteiro:'))\n",
        " print(f'O resultado dessa divisao é {b/c}')"
      ]
    },
    {
      "cell_type": "markdown",
      "metadata": {
        "id": "QhkTMLbSeyR6"
      },
      "source": []
    },
    {
      "cell_type": "markdown",
      "metadata": {
        "id": "KwTX8zUoHg3w"
      },
      "source": [
        "Aula 03"
      ]
    },
    {
      "cell_type": "code",
      "execution_count": null,
      "metadata": {
        "colab": {
          "base_uri": "https://localhost:8080/"
        },
        "id": "LB4zrDT5Hi7I",
        "outputId": "ed44d689-4234-46d7-9042-ec2802b92938"
      },
      "outputs": [
        {
          "name": "stdout",
          "output_type": "stream",
          "text": [
            "nome: Joao\n",
            "idade: 30\n",
            "altura: 1.85\n",
            "casado: True\n"
          ]
        }
      ],
      "source": [
        "nome = \"Joao\"\n",
        "idade = 30\n",
        "altura = 1.85\n",
        "casado = True\n",
        "\n",
        "print(\"nome:\", nome)\n",
        "print(\"idade:\", idade)\n",
        "print(\"altura:\", altura)\n",
        "print(\"casado:\", casado)"
      ]
    },
    {
      "cell_type": "code",
      "execution_count": null,
      "metadata": {
        "colab": {
          "base_uri": "https://localhost:8080/"
        },
        "id": "YPVQ1sz4KSvv",
        "outputId": "d6c52cb8-504f-4f10-c24d-560044345250"
      },
      "outputs": [
        {
          "name": "stdout",
          "output_type": "stream",
          "text": [
            "Você tem 25 anos\n"
          ]
        }
      ],
      "source": [
        "idade = 25\n",
        "mensagem = \"Você tem \" + str(idade) + \" anos\"\n",
        "print(mensagem)"
      ]
    },
    {
      "cell_type": "code",
      "execution_count": null,
      "metadata": {
        "colab": {
          "base_uri": "https://localhost:8080/"
        },
        "id": "dal2X9nANZmQ",
        "outputId": "4a8ca65f-a7fc-4264-d562-1b53215d1b38"
      },
      "outputs": [
        {
          "name": "stdout",
          "output_type": "stream",
          "text": [
            "Joao e maria tem a mesma idade? False\n",
            "Joao tem uma idade diferente de Maria? True\n",
            "Joao é mais velho que Maaria? False\n",
            "Joao è mais jovem que Maria? True\n",
            "Joao tem pelo menos a mesma idade de Maria? False\n",
            "Joao tem pelo maximo a mesma idade que maria? True\n"
          ]
        }
      ],
      "source": [
        "idade_joao = 25\n",
        "idade_maria = 30\n",
        "print(\"Joao e maria tem a mesma idade?\", idade_joao == idade_maria)\n",
        "print(\"Joao tem uma idade diferente de Maria?\", idade_joao != idade_maria)\n",
        "print(\"Joao é mais velho que Maaria?\", idade_joao > idade_maria)\n",
        "print(\"Joao è mais jovem que Maria?\", idade_joao < idade_maria)\n",
        "print(\"Joao tem pelo menos a mesma idade de Maria?\", idade_joao >= idade_maria)\n",
        "print(\"Joao tem pelo maximo a mesma idade que maria?\", idade_joao <= idade_maria)"
      ]
    },
    {
      "cell_type": "code",
      "execution_count": null,
      "metadata": {
        "colab": {
          "base_uri": "https://localhost:8080/"
        },
        "id": "IzrpsPEIRmWC",
        "outputId": "f2dca37d-5adb-42f0-ada9-e566591fa63a"
      },
      "outputs": [
        {
          "name": "stdout",
          "output_type": "stream",
          "text": [
            "Qual e seu nome? Lucas\n",
            "quantos anos voce tem?19\n",
            "qual sua altura1.74\n",
            "ola, Lucas !\n",
            "vc tem 19 anos.\n",
            "vc mede 1.74 metros\n"
          ]
        }
      ],
      "source": [
        "nome = input(\"Qual e seu nome? \")\n",
        "idade = int(input(\"quantos anos voce tem?\"))\n",
        "altura = float(input(\"qual sua altura\"))\n",
        "\n",
        "print(f\"ola, {nome} !\")\n",
        "print(f\"vc tem {idade} anos.\")\n",
        "print(f\"vc mede {altura} metros\")"
      ]
    },
    {
      "cell_type": "markdown",
      "metadata": {
        "id": "YXL3C4j7bqLG"
      },
      "source": [
        "Aula 4"
      ]
    },
    {
      "cell_type": "code",
      "execution_count": null,
      "metadata": {
        "colab": {
          "base_uri": "https://localhost:8080/"
        },
        "id": "vG2YN7GtbsHF",
        "outputId": "71730639-e083-4753-8c98-ce1896790d91"
      },
      "outputs": [
        {
          "name": "stdout",
          "output_type": "stream",
          "text": [
            "qual seu nome?lucas\n",
            "qual a sua cidade?vila velha]\n",
            "Ola, lucas! Voce vive em vila velha]\n"
          ]
        }
      ],
      "source": [
        "nome = input(\"qual seu nome?\")\n",
        "cidade = input(\"qual a sua cidade?\")\n",
        "\n",
        "print(f\"Ola, {nome}! Voce vive em {cidade}\")\n"
      ]
    },
    {
      "cell_type": "code",
      "execution_count": null,
      "metadata": {
        "colab": {
          "base_uri": "https://localhost:8080/"
        },
        "id": "iLKvbQIhgdG6",
        "outputId": "43afe81a-82ce-4ee8-9f8c-012a0948e472"
      },
      "outputs": [
        {
          "name": "stdout",
          "output_type": "stream",
          "text": [
            "digite a largura do retangulo:10.6\n",
            "digite a altura do retangulo:12.6\n",
            "o perimetro do retangulo é 46.4 e a area é 133.56\n"
          ]
        }
      ],
      "source": [
        "largura = float(input(\"digite a largura do retangulo:\"))\n",
        "altura = float(input(\"digite a altura do retangulo:\"))\n",
        "perimetro = (2*largura) + (2*altura)\n",
        "areaa = largura*altura\n",
        "\n",
        "print(f\"o perimetro do retangulo é {perimetro} e a area é {areaa}\")"
      ]
    },
    {
      "cell_type": "code",
      "execution_count": null,
      "metadata": {
        "colab": {
          "base_uri": "https://localhost:8080/"
        },
        "id": "bPO4XcZ7jWO5",
        "outputId": "cf813f7b-e1f3-49e0-cbd0-26c69b7dd3a6"
      },
      "outputs": [
        {
          "name": "stdout",
          "output_type": "stream",
          "text": [
            "digite uma medida em metros1\n",
            "1m em centimetros é 100cm e em milimetris é1000\n"
          ]
        }
      ],
      "source": [
        "metros =int(input(\"digite uma medida em metros\"))\n",
        "resultado_cm = metros * 100\n",
        "resultado_mm = metros * 1000\n",
        "print(f\"{metros}m em centimetros é {resultado_cm}cm e em milimetris é {resultado_mm}mm\")"
      ]
    },
    {
      "cell_type": "code",
      "execution_count": null,
      "metadata": {
        "colab": {
          "base_uri": "https://localhost:8080/"
        },
        "id": "MdiraP1TkKSt",
        "outputId": "3744c841-f999-4401-b865-cffe7e627c3c"
      },
      "outputs": [
        {
          "name": "stdout",
          "output_type": "stream",
          "text": [
            "digite a largura do retangulo:10\n",
            "digite a altura do retangulo:10\n",
            "A area do retangulon é 100.0\n"
          ]
        }
      ],
      "source": [
        "largura = float(input(\"digite a largura do retangulo:\"))\n",
        "altura = float(input(\"digite a altura do retangulo:\"))\n",
        "area = largura * altura\n",
        "\n",
        "print(f\"A area do retangulo é {area}\")"
      ]
    },
    {
      "cell_type": "code",
      "execution_count": null,
      "metadata": {
        "colab": {
          "base_uri": "https://localhost:8080/"
        },
        "id": "-Ic_kJ0bkf4f",
        "outputId": "fb59f110-ca51-4c99-f6aa-8067955bbbf0"
      },
      "outputs": [
        {
          "name": "stdout",
          "output_type": "stream",
          "text": [
            "digite a primeira idade:10\n",
            "digite a segunda idade:18\n",
            "a primeira idade è diferente da segunda idade? True:\n"
          ]
        }
      ],
      "source": [
        "idade_a = int(input(\"digite a primeira idade:\"))\n",
        "idade_b = int(input(\"digite a segunda idade:\"))\n",
        "resultado = (idade_a != idade_b )\n",
        "\n",
        "print(f\"a primeira idade è diferente da segunda idade? {resultado}\")"
      ]
    },
    {
      "cell_type": "code",
      "execution_count": null,
      "metadata": {
        "colab": {
          "base_uri": "https://localhost:8080/"
        },
        "id": "37uWVRQtoFnZ",
        "outputId": "918a57f1-7140-41ea-bc7c-3852bfef4369"
      },
      "outputs": [
        {
          "name": "stdout",
          "output_type": "stream",
          "text": [
            "digite seu peso em kg100.0\n",
            "digite sua altura em metros1.75\n",
            "seu IMC é 32.6530612244898\n"
          ]
        }
      ],
      "source": [
        "peso = float(input(\"digite seu peso em kg\"))\n",
        "altura = float(input(\"digite sua altura em metros\"))\n",
        "resultado = peso / (altura **2)\n",
        "\n",
        "print(f\"seu IMC é {resultado}\")"
      ]
    },
    {
      "cell_type": "code",
      "execution_count": null,
      "metadata": {
        "colab": {
          "base_uri": "https://localhost:8080/"
        },
        "id": "7SfRhOD4pjPg",
        "outputId": "81ee15a1-3d47-46c2-e306-8f7fc89aa501"
      },
      "outputs": [
        {
          "name": "stdout",
          "output_type": "stream",
          "text": [
            "digite um numero inteiro:10\n",
            "digite um numero inteiro:59\n",
            "o primeiro numero é menor ou igual ao segundo numero? True\n",
            "o primeiro numero é maior ou igual ao segundo numero? False\n",
            "o primeiro e o segundo numeros sao iguais? False\n"
          ]
        }
      ],
      "source": [
        "numero_a = int(input(\"digite um numero inteiro:\"))\n",
        "numero_b = int(input(\"digite um numero inteiro:\"))\n",
        "resultado_01 = (numero_a <= numero_b)\n",
        "resultado_02 = (numero_a >= numero_b)\n",
        "resultado_03 = (numero_a == numero_b)\n",
        "\n",
        "print(f\"o primeiro numero é menor ou igual ao segundo numero? {resultado_01}\")\n",
        "print(f\"o primeiro numero é maior ou igual ao segundo numero? {resultado_02}\")\n",
        "print(f\"o primeiro e o segundo numeros sao iguais? {resultado_03}\")\n"
      ]
    },
    {
      "cell_type": "code",
      "execution_count": null,
      "metadata": {
        "colab": {
          "base_uri": "https://localhost:8080/"
        },
        "id": "PXTGbJI5uCmV",
        "outputId": "5ca151a9-7bb4-4b4e-cf92-decb74f8a88e"
      },
      "outputs": [
        {
          "name": "stdout",
          "output_type": "stream",
          "text": [
            "digite a nota 01:10\n",
            "digite a nota 02:10\n",
            "digite a nota 03:10\n",
            "A media é de 10.0\n"
          ]
        }
      ],
      "source": [
        "a = float(input('digite a nota 01:'))\n",
        "b = float(input('digite a nota 02:'))\n",
        "c = float(input('digite a nota 03:'))\n",
        "nota = a+b+c\n",
        "print(f'A media é de {nota/3}')"
      ]
    },
    {
      "cell_type": "code",
      "execution_count": null,
      "metadata": {
        "colab": {
          "base_uri": "https://localhost:8080/"
        },
        "id": "QOvd8ieZuj_y",
        "outputId": "02dd539a-da4b-489b-eee5-b9d68bef5271"
      },
      "outputs": [
        {
          "name": "stdout",
          "output_type": "stream",
          "text": [
            "digite o raio de um cilindro:10\n",
            "digite a altura do cilindro:55\n",
            "o volume é de 17270.0 \n"
          ]
        }
      ],
      "source": [
        "raio = float(input(\"digite o raio de um cilindro:\"))\n",
        "altura = float(input(\"digite a altura do cilindro:\"))\n",
        "volume= 3.14 * (raio**2) * altura\n",
        "print(f\"o volume é de {volume} \")"
      ]
    },
    {
      "cell_type": "markdown",
      "metadata": {
        "id": "_b6rdw-DDS3_"
      },
      "source": [
        "Aula 05"
      ]
    },
    {
      "cell_type": "code",
      "execution_count": null,
      "metadata": {
        "colab": {
          "base_uri": "https://localhost:8080/"
        },
        "id": "PjBYhFz4vaul",
        "outputId": "ea63c0c2-4658-44a0-ee62-fb4b766690dc"
      },
      "outputs": [
        {
          "name": "stdout",
          "output_type": "stream",
          "text": [
            "digite uma palavra:lucas\n",
            "digite uma palavra:luca\n",
            "palavras diferentes\n"
          ]
        }
      ],
      "source": [
        "palavra = input(\"digite uma palavra:\")\n",
        "palavraB = input(\"digite uma palavra:\")\n",
        "\n",
        "if palavra == palavraB:\n",
        "  print(\"palavras iguais\")\n",
        "else:\n",
        "  print(\"palavras diferentes\")\n"
      ]
    },
    {
      "cell_type": "markdown",
      "metadata": {
        "id": "00-Q-3H0oLPE"
      },
      "source": [
        "Exercicios aula 05"
      ]
    },
    {
      "cell_type": "code",
      "execution_count": null,
      "metadata": {
        "colab": {
          "base_uri": "https://localhost:8080/"
        },
        "id": "r46gn24VLJfw",
        "outputId": "955793ed-3bd0-4b0d-f8c7-af7b6e2d9e40"
      },
      "outputs": [
        {
          "name": "stdout",
          "output_type": "stream",
          "text": [
            "digite um numero:0\n",
            "o numero 0 é par!\n"
          ]
        }
      ],
      "source": [
        "#01)Escreva um programa que leia um número inteiro e verifique se ele é par ou ímpar.\n",
        "inteiro = int(input(\"digite um numero:\"))\n",
        "if inteiro % 2 == 0:\n",
        "  print(f\"o numero {inteiro} é par!\")\n",
        "else:\n",
        "    print(f\"o numero {inteiro} é impar\")"
      ]
    },
    {
      "cell_type": "code",
      "execution_count": null,
      "metadata": {
        "colab": {
          "base_uri": "https://localhost:8080/"
        },
        "id": "CIv5kORBNGIy",
        "outputId": "acef42bb-65c5-4df6-99b3-e2f18da92a1a"
      },
      "outputs": [
        {
          "name": "stdout",
          "output_type": "stream",
          "text": [
            "digite uma idade:15\n",
            "menor de idade\n"
          ]
        }
      ],
      "source": [
        "#02)Crie um programa que leia a idade de uma pessoa e exiba uma mensagem dizendo se elaé maior ou menor de idade\n",
        "\n",
        "idade = int(input(\"digite uma idade:\"))\n",
        "if idade >= 18:\n",
        "  printe(\"maior de idade\")\n",
        "else:\n",
        "    print(\"menor de idade\")"
      ]
    },
    {
      "cell_type": "code",
      "execution_count": null,
      "metadata": {
        "colab": {
          "base_uri": "https://localhost:8080/"
        },
        "id": "-vmDQCwVOG35",
        "outputId": "7fa14185-905c-4835-e99f-598a89739ebe"
      },
      "outputs": [
        {
          "name": "stdout",
          "output_type": "stream",
          "text": [
            "digite um numero:5\n",
            "o numero 5 é multiplo de 5\n"
          ]
        }
      ],
      "source": [
        "#03)Escreva um programa que leia um número inteiro e verifique se ele é múltiplo de 5\n",
        "\n",
        "numero = int(input(\"digite um numero:\"))\n",
        "if numero % 5 == 0:\n",
        "  print(f\"o numero {numero} é multiplo de 5\")\n",
        "else:\n",
        "    print(f\"o numero {numero} nao é  por 5\")"
      ]
    },
    {
      "cell_type": "code",
      "execution_count": null,
      "metadata": {
        "colab": {
          "base_uri": "https://localhost:8080/"
        },
        "id": "ry5En1q-PHjQ",
        "outputId": "733b3537-7835-4b9e-add3-c115a648b2d4"
      },
      "outputs": [
        {
          "name": "stdout",
          "output_type": "stream",
          "text": [
            "digite um numero:44\n",
            "digite um numero:44\n",
            "os numeros sao iguais\n"
          ]
        }
      ],
      "source": [
        "#04)Faça um programa que leia dois números inteiros e mostre o maior deles. Se forem iguais, exiba uma mensagem informando que os números são iguais.\n",
        "\n",
        "numero_a = int(input(\"digite um numero:\"))\n",
        "numero_b = int(input(\"digite um numero:\"))\n",
        "if numero_a > numero_b:\n",
        "  print(f\"o maior numero é {numero_a}\")\n",
        "  print(f\"o menor numero é {numero_b}\")\n",
        "elif numero_b > numero_a:\n",
        "  print(f\"o maior numero é {numero_b}\")\n",
        "  print(f\"o menor numero é {numero_a}\")\n",
        "else:\n",
        "  print(f\"os numeros sao iguais\")\n"
      ]
    },
    {
      "cell_type": "code",
      "execution_count": null,
      "metadata": {
        "colab": {
          "base_uri": "https://localhost:8080/"
        },
        "id": "dwsPBAccRLwj",
        "outputId": "6042d403-986f-4f79-b7f2-a29dc3e8f217"
      },
      "outputs": [
        {
          "name": "stdout",
          "output_type": "stream",
          "text": [
            "digite um nome:dbçgfuisdb\n",
            "digite uma senha:jkohdgu9sg\n",
            "Erro otario\n"
          ]
        }
      ],
      "source": [
        " #05)crie um programa que peça o nome de um usuário e uma senha. Se o nome for \"admin\" e a senha for \"1234\", exiba \"Login bem-sucedido\". Caso contrário, exiba \"Login falhou\"\n",
        "\n",
        "nome = input(\"digite um nome:\")\n",
        "senha = input(\"digite uma senha:\")\n",
        "if nome == \"admin\" and senha == \"1234\":\n",
        "  print(\"Login bem sucedido\")\n",
        "else:\n",
        "  print(\"Erro otario\")"
      ]
    },
    {
      "cell_type": "code",
      "execution_count": null,
      "metadata": {
        "colab": {
          "base_uri": "https://localhost:8080/"
        },
        "id": "1t434_2mTvj0",
        "outputId": "35ecfa62-49c6-4233-b398-e181c2d4e24b"
      },
      "outputs": [
        {
          "name": "stdout",
          "output_type": "stream",
          "text": [
            "digite o ano do seu nascimento:2001\n",
            "vc pode votar\n"
          ]
        }
      ],
      "source": [
        "#06)Escreva um programa que leia o ano de nascimento de uma pessoa e diga se ela pode votar este ano (considerando que o ano atual é 2024).\n",
        "\n",
        "nascimento = int(input(\"digite o ano do seu nascimento:\"))\n",
        "ano_atual = 2024\n",
        "if nascimento <= 2008:\n",
        "  print(\"vc pode votar\")\n",
        "else:\n",
        "  print(\"vc n pode votar\")"
      ]
    },
    {
      "cell_type": "code",
      "execution_count": null,
      "metadata": {
        "colab": {
          "base_uri": "https://localhost:8080/"
        },
        "id": "x2G-PNOsWsj5",
        "outputId": "cb7b242c-696a-493f-d1db-719ad0e4f085"
      },
      "outputs": [
        {
          "name": "stdout",
          "output_type": "stream",
          "text": [
            "digite sua altura:1.74\n",
            "digite seu peso:101.0\n",
            "sobrepeso\n"
          ]
        }
      ],
      "source": [
        "#07)Desenvolva um programa que leia a altura e o peso de uma pessoa e calcule o IMC (Índice de Massa Corporal). Se o IMC for abaixo de 18.5, exiba \"Abaixo do peso\"; se estiver entre 18.5 e 24.9, exiba \"Peso normal\"; e se for 25 ou mais, exiba \"Sobrepeso\".\n",
        "\n",
        "altura = float(input(\"digite sua altura:\"))\n",
        "peso = float(input(\"digite seu peso:\"))\n",
        "imc = peso / (altura **2)\n",
        "if imc < 18.5:\n",
        "  print(\"abaixo do peso\")\n",
        "elif imc >= 18.5 and imc <= 24.9:\n",
        "  print(\"peso normal\")\n",
        "else:\n",
        "  print(\"sobrepeso\")\n"
      ]
    },
    {
      "cell_type": "code",
      "execution_count": null,
      "metadata": {
        "colab": {
          "base_uri": "https://localhost:8080/"
        },
        "id": "o8n4PqD-ixHv",
        "outputId": "f3d811ed-fa55-4be8-e36c-716cddf2a4c6"
      },
      "outputs": [
        {
          "name": "stdout",
          "output_type": "stream",
          "text": [
            "digite sua idade:25\n",
            "filme para maiores de 18 anos\n"
          ]
        }
      ],
      "source": [
        "#08)Crie um programa que pergunte a um usuário quantos anos ele tem e, com base nisso, sugira se ele deve assistir a um filme para maiores de 18 anos ou um filme infantil\n",
        "\n",
        "idade = int(input(\"digite sua idade:\"))\n",
        "if idade >= 18:\n",
        "  print(\"filme para maiores de 18 anos\")\n",
        "else:\n",
        "  print(\"filmes infantis\")"
      ]
    },
    {
      "cell_type": "code",
      "execution_count": null,
      "metadata": {
        "colab": {
          "base_uri": "https://localhost:8080/"
        },
        "id": "Uhxkf-fQkRbu",
        "outputId": "c5306926-0f54-419d-faad-3133443fb40a"
      },
      "outputs": [
        {
          "name": "stdout",
          "output_type": "stream",
          "text": [
            "digite um numero:-6555645\n",
            "negativo\n"
          ]
        }
      ],
      "source": [
        "#09)Desenvolva um programa que leia um número inteiro e diga se ele é positivo, negativo ou zero.\n",
        "numero = int(input(\"digite um numero:\"))\n",
        "if numero > 0:\n",
        "  print(\"positivo\")\n",
        "elif numero < 0:\n",
        "  print(\"negativo\")\n",
        "else:\n",
        "  print(\"ZERO\")"
      ]
    },
    {
      "cell_type": "code",
      "execution_count": null,
      "metadata": {
        "colab": {
          "base_uri": "https://localhost:8080/"
        },
        "id": "_JGHCVEflfw1",
        "outputId": "c9136145-6b86-4c54-87e3-6f5061d6ece9"
      },
      "outputs": [
        {
          "name": "stdout",
          "output_type": "stream",
          "text": [
            "digite o lado a:2\n",
            "digite o lado b:2\n"
          ]
        }
      ],
      "source": [
        "#10)Escreva um programa que leia três números e verifique se eles podem formar um triângulo. Para que isso aconteça, a soma de dois lados deve ser sempre maior que o terceiro lado.\n",
        "\n",
        "lado_a = float(input(\"digite o lado a:\"))\n",
        "lado_b = float(input(\"digite o lado b:\"))\n",
        "lado_c = float(input(\"digite o lado c:\"))\n",
        "if (lado_a + lado_b) > lado_c and (lado_a + lado_c) > lado_b and (lado_b + lado_c) > lado_a:\n",
        "  print(\"pode formar um triangulo\")\n",
        "else:\n",
        "  print(\"nao forma um triangulo\")"
      ]
    },
    {
      "cell_type": "markdown",
      "metadata": {
        "id": "veCV2qVOJZYQ"
      },
      "source": [
        "Aula 06"
      ]
    },
    {
      "cell_type": "code",
      "execution_count": null,
      "metadata": {
        "colab": {
          "base_uri": "https://localhost:8080/"
        },
        "id": "GwMPdmyOJa8H",
        "outputId": "765bc464-6832-4e7b-9532-93ccb20d2f1f"
      },
      "outputs": [
        {
          "name": "stdout",
          "output_type": "stream",
          "text": [
            "digite a quntidade do dia 1:25\n",
            "digite a quntidade do dia 2:25\n",
            "digite a quntidade do dia 3:55\n",
            "digite a quntidade do dia 4:44\n",
            "a quantidade total vendida é de 149\n"
          ]
        }
      ],
      "source": [
        "acum = 0\n",
        "for i in range(1,5):\n",
        "  qtd = int(input(f\"digite a quntidade do dia {i}:\"))\n",
        "  acum+=qtd\n",
        "print(f\"a quantidade total vendida é de {acum}\")"
      ]
    },
    {
      "cell_type": "code",
      "execution_count": null,
      "metadata": {
        "id": "7hPFoFHMOueD"
      },
      "outputs": [],
      "source": [
        "#01)Desenvolva um programa que mostre todos os números de 1 à 100.\n",
        "\n",
        "for i in range(1,101):\n",
        "  print(i)"
      ]
    },
    {
      "cell_type": "code",
      "execution_count": null,
      "metadata": {
        "id": "g_qKbtFWPFzz"
      },
      "outputs": [],
      "source": [
        " #02)Desenvolva um programa que mostre todos os números de 200 até 1.\n",
        "\n",
        " for i in range(200,0,-1):\n",
        "  print(i)"
      ]
    },
    {
      "cell_type": "code",
      "execution_count": null,
      "metadata": {
        "colab": {
          "base_uri": "https://localhost:8080/"
        },
        "id": "GKtLvy-FQo4h",
        "outputId": "fd3f268e-c678-43fd-bff6-86bd7249191d"
      },
      "outputs": [
        {
          "name": "stdout",
          "output_type": "stream",
          "text": [
            "A soma dos 200 primeiros números inteiros positivos é: 20100\n"
          ]
        }
      ],
      "source": [
        "#03)Desenvolva um programa que calcule a soma dos 200 primeiros números inteiros positivos\n",
        "\n",
        "soma = 0\n",
        "\n",
        "for i in range(1, 201):\n",
        "\n",
        "   soma += i\n",
        "\n",
        "print(f\"A soma dos 200 primeiros números inteiros positivos é:\", soma)\n",
        "\n"
      ]
    },
    {
      "cell_type": "code",
      "execution_count": null,
      "metadata": {
        "id": "BMC1MuLnS7_S"
      },
      "outputs": [],
      "source": [
        "#04)Desenvolva um programa que imprima os 100 primeiros números da sequência de Fibonacci na tela. [0,1,1,2,3,5,8,13,21,34...]\n",
        "\n",
        "a= 0\n",
        "b=1\n",
        "for i in range(1,101):\n",
        "  print(b)\n",
        "  c = b\n",
        "  b = a + b\n",
        "  a = c"
      ]
    },
    {
      "cell_type": "code",
      "execution_count": null,
      "metadata": {
        "colab": {
          "base_uri": "https://localhost:8080/"
        },
        "id": "-1xtzm_oYSXt",
        "outputId": "44e197ea-c2c7-40be-f179-79d9a149617a"
      },
      "outputs": [
        {
          "name": "stdout",
          "output_type": "stream",
          "text": [
            "o 25° numero fibonatti é 75025\n"
          ]
        }
      ],
      "source": [
        "#05)Desenvolva um programa que imprima o 25º número da sequência de Fibonacci na tela\n",
        "\n",
        "a= 0\n",
        "b=1\n",
        "for i in range(1,25):\n",
        "  c = b\n",
        "  b += a\n",
        "  a = c\n",
        "print(f\"o 25° numero fibonatti é {b}\")"
      ]
    },
    {
      "cell_type": "markdown",
      "metadata": {
        "id": "rT4DRP2fly_4"
      },
      "source": [
        "Aula 07"
      ]
    },
    {
      "cell_type": "code",
      "execution_count": null,
      "metadata": {
        "colab": {
          "base_uri": "https://localhost:8080/"
        },
        "id": "Rb8g20awl21a",
        "outputId": "4df7b421-4588-4b13-c06e-816f4f1df638"
      },
      "outputs": [
        {
          "name": "stdout",
          "output_type": "stream",
          "text": [
            "digite um numero:5\n",
            "a soma é 15\n"
          ]
        }
      ],
      "source": [
        "#01)Calcule a soma de todos os números de 1 até n usando um loop for.\n",
        "\n",
        "a = 1\n",
        "n = int(input(\"digite um numero:\"))\n",
        "soma = 0\n",
        "for i in range(1,n+1):\n",
        "  soma += a\n",
        "  a += 1\n",
        "print(f\"a soma é {soma}\")"
      ]
    },
    {
      "cell_type": "code",
      "execution_count": null,
      "metadata": {
        "colab": {
          "base_uri": "https://localhost:8080/"
        },
        "id": "syspTqcQozZd",
        "outputId": "251c4bd6-75e7-4510-a0bd-71e34b30df1c"
      },
      "outputs": [
        {
          "name": "stdout",
          "output_type": "stream",
          "text": [
            "digite um numero para fatorar:5\n",
            "120\n"
          ]
        }
      ],
      "source": [
        "#02)Calcule o fatorial de um número inteiro positivo usando um loop while.\n",
        "\n",
        "num = int(input(\"digite um numero para fatorar:\"))\n",
        "fatorial = 1\n",
        "while num  > 0:\n",
        "  fatorial = fatorial * num\n",
        "  num = num -1\n",
        "print(fatorial)"
      ]
    },
    {
      "cell_type": "code",
      "execution_count": null,
      "metadata": {
        "colab": {
          "base_uri": "https://localhost:8080/"
        },
        "id": "thcfCZE3tNo7",
        "outputId": "3af6e5dd-b79e-4dd6-db0a-2b4fbebcd1d9"
      },
      "outputs": [
        {
          "name": "stdout",
          "output_type": "stream",
          "text": [
            "1\n",
            "1\n",
            "2\n",
            "3\n",
            "5\n",
            "8\n",
            "13\n",
            "21\n",
            "34\n",
            "55\n"
          ]
        }
      ],
      "source": [
        "#03)Gere a sequência de Fibonacci até o décimo termo usando um loop for.\n",
        "\n",
        "a= 0\n",
        "b=1\n",
        "for i in range(1,11):\n",
        "  print(b)\n",
        "  c = b\n",
        "  b = a + b\n",
        "  a = c"
      ]
    },
    {
      "cell_type": "code",
      "execution_count": null,
      "metadata": {
        "colab": {
          "base_uri": "https://localhost:8080/"
        },
        "id": "zEne6P9Ut0d6",
        "outputId": "8b88fab0-3948-4074-c2dd-59fb13c9aef3"
      },
      "outputs": [
        {
          "name": "stdout",
          "output_type": "stream",
          "text": [
            "2  4  6  8  10  12  14  16  18  20  22  24  26  28  30  32  34  36  38  40  42  44  46  48  50  52  54  56  58  60  62  64  66  68  70  72  74  76  78  80  82  84  86  88  90  92  94  96  98  100  "
          ]
        }
      ],
      "source": [
        "#04)Imprima todos os números pares de 1 a 100 usando um loop for\n",
        "\n",
        "for i in range(1,101):\n",
        "  if i%2 == 0:\n",
        "    print(i, end=\"  \")"
      ]
    },
    {
      "cell_type": "code",
      "execution_count": null,
      "metadata": {
        "colab": {
          "base_uri": "https://localhost:8080/"
        },
        "id": "YoVKogJswgZq",
        "outputId": "51596b94-467f-408c-f06f-af841102a049"
      },
      "outputs": [
        {
          "name": "stdout",
          "output_type": "stream",
          "text": [
            "digite um numero:10\n",
            "digite um numero inteiro:10\n",
            "digite um numero inteiro:-1\n",
            "a media é 10.0\n"
          ]
        }
      ],
      "source": [
        "#05)Calcule e exiba a média de números inseridos pelo usuário até que ele digite -1, usando um loop while.\n",
        "\n",
        "soma = 0\n",
        "contador = 0\n",
        "n = int(input(\"digite um numero:\"))\n",
        "while n>0:\n",
        "  soma = soma +n\n",
        "  contador+=1\n",
        "  n = int(input(\"digite um numero inteiro:\"))\n",
        "print(f\"a media é {soma/contador}\")\n"
      ]
    },
    {
      "cell_type": "code",
      "execution_count": null,
      "metadata": {
        "colab": {
          "base_uri": "https://localhost:8080/"
        },
        "id": "R0v0oY-KzKd3",
        "outputId": "9992516d-c917-40c2-b263-6591bb1156a7"
      },
      "outputs": [
        {
          "name": "stdout",
          "output_type": "stream",
          "text": [
            "digite um valor:7\n",
            "7 6 5 4 3 2 1 0 "
          ]
        }
      ],
      "source": [
        "#06)Faça uma contagem regressiva até zero a partir de um número fornecido pelo usuário usando um loop while.\n",
        "\n",
        "i = int(input(\"digite um valor:\"))\n",
        "while i >= 0:\n",
        "  print(i, end=\" \")\n",
        "  i-=1\n"
      ]
    },
    {
      "cell_type": "code",
      "execution_count": null,
      "metadata": {
        "id": "kwyHSI7Z0Vi3"
      },
      "outputs": [],
      "source": [
        "#07)Crie um jogo de adivinhação em que o usuário deve adivinhar um número entre 1 e 100, com dicas de maior ou menor, usando um loop while.\n",
        "\n",
        "num_premio = 57\n",
        "while n!=num_premio:\n",
        "  n = int(input(\"digite um numero:\"))\n",
        "  if n>num_premio:\n",
        "    print((\"é maior!\"))\n",
        "  elif n<num_premio:\n",
        "    print(\"é menor!:\")\n",
        "  else:\n",
        "    print(\"parabens voce acertou\")"
      ]
    },
    {
      "cell_type": "code",
      "execution_count": null,
      "metadata": {
        "colab": {
          "base_uri": "https://localhost:8080/"
        },
        "id": "wplUXVJY2qmc",
        "outputId": "9c1425e3-0fa7-4976-d2ac-cc60b747f6ed"
      },
      "outputs": [
        {
          "name": "stdout",
          "output_type": "stream",
          "text": [
            "digite um numero:536\n",
            "a soma dos digitos é 14\n"
          ]
        }
      ],
      "source": [
        "#08)Calcule a soma de todos os dígitos de um número inteiro usando um loop while.\n",
        "\n",
        "num = int(input(\"digite um numero:\"))\n",
        "soma = 0\n",
        "while num > 0:\n",
        "  digito = num % 10\n",
        "  soma += digito\n",
        "  num //= 10\n",
        "print(f\"a soma dos digitos é {soma}\")"
      ]
    },
    {
      "cell_type": "code",
      "execution_count": null,
      "metadata": {
        "colab": {
          "base_uri": "https://localhost:8080/"
        },
        "id": "ILxpQbiV41MO",
        "outputId": "ff8fcb65-10ae-4787-b47a-524fed18736f"
      },
      "outputs": [
        {
          "name": "stdout",
          "output_type": "stream",
          "text": [
            "digite um numero:44\n",
            "o numero 44 n é primo\n"
          ]
        }
      ],
      "source": [
        "#09)Verifique se um número é primo usando um loop for\n",
        "\n",
        "num = int(input(\"digite um numero:\"))\n",
        "primo = True\n",
        "for i in range(2,num):\n",
        "  if num % i == 0:\n",
        "    primo = False\n",
        "    break\n",
        "if primo:\n",
        "  print(f\"o numero {num} é primo\")\n",
        "else:\n",
        "  print(f\"o numero {num} n é primo\")"
      ]
    },
    {
      "cell_type": "code",
      "execution_count": null,
      "metadata": {
        "colab": {
          "base_uri": "https://localhost:8080/"
        },
        "id": "K1MqZu_h5b6T",
        "outputId": "2b8dfadb-4eea-45f1-b9d5-50d15b2281c8"
      },
      "outputs": [
        {
          "name": "stdout",
          "output_type": "stream",
          "text": [
            "digite um numero:10\n",
            "*\n",
            "**\n",
            "***\n",
            "****\n",
            "*****\n",
            "******\n",
            "*******\n",
            "********\n",
            "*********\n",
            "**********\n"
          ]
        }
      ],
      "source": [
        "#10)Imprima um triângulo de asteriscos (*) com altura fornecida pelo usuário usando um loop for.\n",
        "\n",
        "num = int(input(\"digite um numero:\"))\n",
        "for i in range(1,num+1):\n",
        "  print(\"*\"*i)"
      ]
    },
    {
      "cell_type": "markdown",
      "metadata": {
        "id": "DuqINuucIi0E"
      },
      "source": [
        "Aula 08"
      ]
    },
    {
      "cell_type": "code",
      "execution_count": null,
      "metadata": {
        "colab": {
          "base_uri": "https://localhost:8080/"
        },
        "id": "y6isDAZ_IpXN",
        "outputId": "dac62c37-0782-47e3-f245-4f692c0ce76b"
      },
      "outputs": [
        {
          "name": "stdout",
          "output_type": "stream",
          "text": [
            "digite um numero:59\n",
            "digite um numero:9448416825\n",
            "digite um numero:9448462\n",
            "o numero 9448462 é valido\n"
          ]
        }
      ],
      "source": [
        "#01)Desenvolva um programa que continue solicitando um número até que o usuário forneça um número positivo e par, utilizando uma estrutura de repetição `while`.\n",
        "\n",
        "num = int(input(\"digite um numero:\"))\n",
        "while num <= 0 or num % 2 != 0:\n",
        "  num = int(input(\"digite um numero:\"))\n",
        "print(f\"o numero {num} é valido\")"
      ]
    },
    {
      "cell_type": "code",
      "execution_count": null,
      "metadata": {
        "colab": {
          "base_uri": "https://localhost:8080/"
        },
        "id": "MnOSGW7YMikK",
        "outputId": "9dcfc112-6557-4650-8f7f-e95f1604b5dd"
      },
      "outputs": [
        {
          "name": "stdout",
          "output_type": "stream",
          "text": [
            "3\n",
            "6\n",
            "9\n",
            "12\n",
            "15\n"
          ]
        }
      ],
      "source": [
        "#02)Faça um programa que percorra uma lista de números utilizando um laço `for` e exiba aqueles que são divisíveis por 3.\n",
        "\n",
        "lista = [1,2,3,4,5,6,7,8,9,10,11,12,13,14,15]\n",
        "for i in lista:\n",
        "  if i % 3 == 0:\n",
        "    print(i)"
      ]
    },
    {
      "cell_type": "code",
      "execution_count": null,
      "metadata": {
        "colab": {
          "base_uri": "https://localhost:8080/"
        },
        "id": "Ce3Fb3m_Og6Z",
        "outputId": "048cdb2d-4a5d-427e-e53d-2a6568c4779d"
      },
      "outputs": [
        {
          "name": "stdout",
          "output_type": "stream",
          "text": [
            "digite a senha:1234\n",
            "acertou\n"
          ]
        }
      ],
      "source": [
        "#03)Crie um programa que peça repetidamente uma senha ao usuário, até que ele acerte, usando um laço `while`.\n",
        "\n",
        "senha = input(\"digite a senha:\")\n",
        "while senha != \"1234\":\n",
        "  senha = input(\"digite a senha:\")\n",
        "if senha == \"1234\":\n",
        "  print(\"acertou\")"
      ]
    },
    {
      "cell_type": "code",
      "execution_count": null,
      "metadata": {
        "colab": {
          "base_uri": "https://localhost:8080/"
        },
        "id": "ubPAKtSBaJPW",
        "outputId": "a2d0a96d-0f17-42ae-c80b-91fa37085bd3"
      },
      "outputs": [
        {
          "name": "stdout",
          "output_type": "stream",
          "text": [
            "2\n",
            "4\n",
            "6\n",
            "8\n",
            "10\n",
            "12\n",
            "14\n"
          ]
        }
      ],
      "source": [
        "#04)Crie um programa que percorra uma lista de números com um laço `for` e exiba aqueles que estão em posições ímpares na lista.]\n",
        "\n",
        "lista = [1,2,3,4,5,6,7,8,9,10,11,12,13,14,15]\n",
        "for i in range(1,len(lista),2):\n",
        "  print(lista[i])"
      ]
    },
    {
      "cell_type": "code",
      "execution_count": null,
      "metadata": {
        "colab": {
          "base_uri": "https://localhost:8080/"
        },
        "id": "LJV5kf4VGmgU",
        "outputId": "00e9554f-4642-45a7-a669-ffe01fe2c7e8"
      },
      "outputs": [
        {
          "name": "stdout",
          "output_type": "stream",
          "text": [
            "digite um numero:25\n",
            "o fatorial é 15511210043330985984000000\n"
          ]
        }
      ],
      "source": [
        "#05)Desenvolva um programa que calcule o fatorial de um número fornecido pelo usuário, utilizando um laço `for`.\n",
        "\n",
        "num = int(input(\"digite um numero:\"))\n",
        "fatorial = 1\n",
        "for i in range(1,num+1):\n",
        "  fatorial = fatorial * i\n",
        "print(f\"o fatorial é {fatorial}\")\n"
      ]
    },
    {
      "cell_type": "code",
      "execution_count": null,
      "metadata": {
        "id": "2iCPH1Mybdzd"
      },
      "outputs": [],
      "source": [
        "#06)Crie um programa que simule um sistema de caixa eletrônico, onde o usuário deve continuar informando o valor a ser sacado até que não haja saldo suficiente, utilizando um laço `while`.\n",
        "\n",
        "saldo = 1000000\n",
        "while True:\n",
        "  saque = float(input( \"Digite o valor a ser sacado\"))\n",
        "  saldo -= saque\n",
        "  if saldo <= 0:\n",
        "    print(\"saldo atual R$ 0\")\n",
        "    break\n",
        "  else:\n",
        "    print(f\"vc sacou {saque:.2f}. saldo atual R$ {saldo:.2f}\")\n"
      ]
    },
    {
      "cell_type": "code",
      "execution_count": null,
      "metadata": {
        "colab": {
          "base_uri": "https://localhost:8080/"
        },
        "id": "ZyCi8V3Uczxy",
        "outputId": "b4bfec22-7931-405a-e31b-097c7786b5af"
      },
      "outputs": [
        {
          "name": "stdout",
          "output_type": "stream",
          "text": [
            "digite um numero:5\n",
            "digite um numero:5\n",
            "digite um numero:0\n",
            "a soma dos numeros pares é 0\n"
          ]
        }
      ],
      "source": [
        "#07)Faça um programa que peça ao usuário uma lista de números e continue pedindo até que o número 0 seja fornecido. No final, exiba a soma dos números pares fornecidos, usando uma estrutura `while`.\n",
        "\n",
        "num = int(input(\"digite um numero:\"))\n",
        "soma = 0\n",
        "while num != 0:\n",
        "  if num % 2 == 0:\n",
        "    soma += num\n",
        "  num = int(input(\"digite um numero:\"))\n",
        "print(f\"a soma dos numeros pares é {soma}\")"
      ]
    },
    {
      "cell_type": "code",
      "execution_count": null,
      "metadata": {
        "colab": {
          "base_uri": "https://localhost:8080/"
        },
        "id": "0GZ8GIBFdS3r",
        "outputId": "aa369725-10a1-4615-d767-d8ef9eafe4be"
      },
      "outputs": [
        {
          "name": "stdout",
          "output_type": "stream",
          "text": [
            "digite os nomes:Lucas Senhor\n"
          ]
        }
      ],
      "source": [
        "#08)Escreva um programa que receba uma lista de nomes e, utilizando um laço `for`, exiba apenas aqueles com mais de 5 caracteres.\n",
        "\n",
        "nomes = input(\"digite os nomes:\")\n",
        "for nome in nomes:\n",
        "  if len(nome) > 5:\n",
        "    print(nome)"
      ]
    },
    {
      "cell_type": "code",
      "execution_count": null,
      "metadata": {
        "colab": {
          "base_uri": "https://localhost:8080/"
        },
        "id": "qQys4vNsd2O9",
        "outputId": "f37fccb1-136b-42fe-8259-c195a73c928e"
      },
      "outputs": [
        {
          "name": "stdout",
          "output_type": "stream",
          "text": [
            "digite um numero:10\n",
            "digite um numero:10\n",
            "digite um numero:10\n",
            "digite um numero:-10\n",
            "a soma é 30\n"
          ]
        }
      ],
      "source": [
        "#09)Desenvolva um programa que receba números inteiros até que o usuário digite um número negativo e, ao final, exiba a soma desses números, utilizando um laço `while`.\n",
        "\n",
        "num = int(input(\"digite um numero:\"))\n",
        "soma = 0\n",
        "while num >= 0:\n",
        "  soma += num\n",
        "  num = int(input(\"digite um numero:\"))\n",
        "print(f\"a soma é {soma}\")"
      ]
    },
    {
      "cell_type": "code",
      "execution_count": null,
      "metadata": {
        "colab": {
          "base_uri": "https://localhost:8080/"
        },
        "id": "oAA1UbaIeAAh",
        "outputId": "4be19bab-eb41-4e5f-9b72-02f8199bf725"
      },
      "outputs": [
        {
          "name": "stdout",
          "output_type": "stream",
          "text": [
            "digite uma palavra:kjbijfbg\n",
            "digite uma palavra:jbnujsfbvjos\n",
            "digite uma palavra:sair\n"
          ]
        }
      ],
      "source": [
        "#10)Crie um programa que continue solicitando a entrada de uma palavra até que o usuário digite \"sair\", utilizando um laço `while`.\n",
        "\n",
        "palavra = input(\"digite uma palavra:\")\n",
        "while palavra != \"sair\":\n",
        "  palavra = input(\"digite uma palavra:\")"
      ]
    },
    {
      "cell_type": "code",
      "execution_count": null,
      "metadata": {
        "colab": {
          "base_uri": "https://localhost:8080/"
        },
        "id": "JWSw5Pn_errs",
        "outputId": "09e548b4-d925-4624-c019-566e7c74f4c0"
      },
      "outputs": [
        {
          "name": "stdout",
          "output_type": "stream",
          "text": [
            "0\n",
            "2\n",
            "4\n",
            "6\n",
            "8\n",
            "10\n",
            "12\n",
            "14\n",
            "16\n",
            "18\n"
          ]
        }
      ],
      "source": [
        "#11)Percorra uma lista de números usando um laço `for` e exiba somente os números pares.\n",
        "\n",
        "lista = [1,2,3,4,5,6,7,8,9,10,11,12,13,14,15]\n",
        "for i in range(0,20):\n",
        "  if i % 2 == 0:\n",
        "    print(i)"
      ]
    },
    {
      "cell_type": "code",
      "execution_count": null,
      "metadata": {
        "id": "K_G1vw8Ce19L"
      },
      "outputs": [],
      "source": [
        "#12)Faça um programa que percorra uma lista de números com um laço `for` e exiba apenas aqueles que são primos.\n",
        "\n",
        "num = int(input(\"digite um numero:\"))\n",
        "primo = True\n",
        "for i in range(2,num):\n",
        "  if num % i == 0:\n",
        "    primo = False\n",
        "    break\n",
        "if primo:\n",
        "  print(f\"o numero {num} é primo\")"
      ]
    },
    {
      "cell_type": "code",
      "execution_count": null,
      "metadata": {
        "colab": {
          "base_uri": "https://localhost:8080/"
        },
        "id": "XZugCSBrindo",
        "outputId": "e2f14ecc-e31d-4cd8-893d-4d733faae711"
      },
      "outputs": [
        {
          "name": "stdout",
          "output_type": "stream",
          "text": [
            "a soma é 5050\n"
          ]
        }
      ],
      "source": [
        "#13)Escreva um programa que calcule a soma dos números de 1 a 100 utilizando um laço `for`.\n",
        "\n",
        "soma = 0\n",
        "for i in range(1,101):\n",
        "  soma += i\n",
        "print(f\"a soma é {soma}\")"
      ]
    },
    {
      "cell_type": "code",
      "execution_count": null,
      "metadata": {
        "collapsed": true,
        "id": "AqAVKNlgi2rS"
      },
      "outputs": [],
      "source": [
        "#14)Crie um programa que percorra uma lista de números e exiba o menor número, utilizando uma estrutura de repetição `while`.\n",
        "\n"
      ]
    },
    {
      "cell_type": "markdown",
      "metadata": {
        "id": "XMafu5HlZAbG"
      },
      "source": [
        "AULA NAO SEI QUAL"
      ]
    },
    {
      "cell_type": "code",
      "execution_count": null,
      "metadata": {
        "id": "9dicIhIgZXS-"
      },
      "outputs": [],
      "source": [
        "#1. Crie uma lista com os números de 1 a 10. Acesse o primeiro e o último elemento da lista e imprima-os.\n",
        "\n",
        "lista = []\n",
        "for i in range(1,11):\n",
        "  lista.append(i)\n",
        "print(lista[0])\n",
        "print(lista[-1])\n"
      ]
    },
    {
      "cell_type": "code",
      "execution_count": null,
      "metadata": {
        "colab": {
          "base_uri": "https://localhost:8080/"
        },
        "id": "m8d0XHfzZ615",
        "outputId": "746b3de5-0cc7-4fc7-8342-e0f9bfc60397"
      },
      "outputs": [
        {
          "name": "stdout",
          "output_type": "stream",
          "text": [
            "[0, 1, 2, 3, 4]\n"
          ]
        }
      ],
      "source": [
        "#2. Crie uma lista vazia e adicione os números 1, 2, e 3. Em seguida, insira o número 0 no início da lista e o número 4 na posição 4. Imprima a lista final.\n",
        "\n",
        "lista = []\n",
        "lista.extend([1,2,3])\n",
        "lista.insert(0,0)\n",
        "lista.insert(4,4)\n",
        "print(lista)"
      ]
    },
    {
      "cell_type": "code",
      "execution_count": null,
      "metadata": {
        "colab": {
          "base_uri": "https://localhost:8080/"
        },
        "id": "CoIBQxaAdkCR",
        "outputId": "dad19a13-65e3-4d10-c2a4-4ae5c8639ff8"
      },
      "outputs": [
        {
          "name": "stdout",
          "output_type": "stream",
          "text": [
            "['banana', 'laranja', 'uva']\n"
          ]
        }
      ],
      "source": [
        "#3. Crie uma lista com os elementos ['maçã', 'banana', 'laranja', 'uva', 'maçã']. Remova a primeira ocorrência de \"maçã\" e depois remova o último elemento da lista. Imprima a lista resultante.\n",
        "\n",
        "lista = ['maçã', 'banana', 'laranja', 'uva', 'maçã']\n",
        "lista.remove('maçã')\n",
        "lista.pop()\n",
        "print(lista)"
      ]
    },
    {
      "cell_type": "code",
      "execution_count": null,
      "metadata": {
        "colab": {
          "base_uri": "https://localhost:8080/"
        },
        "id": "J4cA7fLxhTKx",
        "outputId": "7efe0587-8d55-49a1-a9b0-eae0151b1c06"
      },
      "outputs": [
        {
          "name": "stdout",
          "output_type": "stream",
          "text": [
            "3\n"
          ]
        }
      ],
      "source": [
        "#4. Dada a lista ['a', 'b', 'a', 'c', 'a', 'b'], conte quantas vezes o valor 'a' aparece na lista e imprima o resultado.\n",
        "\n",
        "lista = ['a', 'b', 'a', 'c', 'a', 'b']\n",
        "contador = lista.count('a')\n",
        "print(contador)"
      ]
    },
    {
      "cell_type": "code",
      "execution_count": null,
      "metadata": {
        "colab": {
          "base_uri": "https://localhost:8080/"
        },
        "id": "K_bpTc52kRq0",
        "outputId": "3597b6de-1cd4-41ce-c7a0-932c768c3428"
      },
      "outputs": [
        {
          "name": "stdout",
          "output_type": "stream",
          "text": [
            "[1, 3, 5, 7, 9]\n",
            "[9, 7, 5, 3, 1]\n"
          ]
        }
      ],
      "source": [
        "#5. Crie uma lista com os números [5, 3, 9, 1, 7]. Ordene a lista em ordem crescente e depois em ordem decrescente. Imprima ambas as listas.\n",
        "\n",
        "lista = [5, 3, 9, 1, 7]\n",
        "lista.sort()\n",
        "print(lista)\n",
        "lista.sort(reverse=True)\n",
        "print(lista)"
      ]
    },
    {
      "cell_type": "code",
      "execution_count": null,
      "metadata": {
        "colab": {
          "base_uri": "https://localhost:8080/"
        },
        "id": "sjwy_3Vm_1dp",
        "outputId": "15fe5003-9687-48b1-8990-28f3cb406f22"
      },
      "outputs": [
        {
          "name": "stdout",
          "output_type": "stream",
          "text": [
            "[3, 6, 9, 12, 15]\n"
          ]
        }
      ],
      "source": [
        "# 2. Dada a lista [1, 2, 3, 4, 5], multiplique cada elemento por 3 e imprima a nova lista.\n",
        "\n",
        "lista = [1, 2, 3, 4, 5]\n",
        "index = 0\n",
        "for i in lista:\n",
        "  lista[index] = i * 3\n",
        "  index += 1\n",
        "print(lista)"
      ]
    },
    {
      "cell_type": "code",
      "execution_count": null,
      "metadata": {
        "colab": {
          "base_uri": "https://localhost:8080/"
        },
        "id": "i4pQNbJpYfQk",
        "outputId": "ad83e682-3d8e-43af-cf6b-f91ca6521e0e"
      },
      "outputs": [
        {
          "name": "stdout",
          "output_type": "stream",
          "text": [
            "10\n",
            "50\n",
            "5\n",
            "2\n",
            "100\n"
          ]
        }
      ],
      "source": [
        "sualista = [10, 50, 5, 2, 100]\n",
        "\n",
        "print(sualista[0])\n",
        "print(sualista[1])\n",
        "print(sualista[2])\n",
        "print(sualista[3])\n",
        "print(sualista[4])"
      ]
    },
    {
      "cell_type": "code",
      "execution_count": null,
      "metadata": {
        "colab": {
          "base_uri": "https://localhost:8080/"
        },
        "id": "VkvoOpP9ZJq8",
        "outputId": "bb622ebe-6376-4285-e095-868f612ede7f"
      },
      "outputs": [
        {
          "name": "stdout",
          "output_type": "stream",
          "text": [
            "10\n",
            "50\n",
            "5\n",
            "2\n",
            "100\n"
          ]
        }
      ],
      "source": [
        "sualista = [10, 50, 5, 2, 100]\n",
        "i = 0\n",
        "while i<5:\n",
        "  print(sualista[i])\n",
        "  i=i+1"
      ]
    },
    {
      "cell_type": "markdown",
      "metadata": {
        "id": "3StHtqVAmD-J"
      },
      "source": [
        "Aula de set"
      ]
    },
    {
      "cell_type": "code",
      "execution_count": null,
      "metadata": {
        "colab": {
          "base_uri": "https://localhost:8080/"
        },
        "id": "oH2ytLAWmHIh",
        "outputId": "0ce8732a-13ec-43c5-9d5b-10e84ee50ee0"
      },
      "outputs": [
        {
          "name": "stdout",
          "output_type": "stream",
          "text": [
            "{1, 2, 3, 4}\n"
          ]
        }
      ],
      "source": [
        "meu_conjunto  = {1, 2, 3 ,4}\n",
        "print(meu_conjunto)\n",
        "\n"
      ]
    },
    {
      "cell_type": "code",
      "execution_count": null,
      "metadata": {
        "colab": {
          "base_uri": "https://localhost:8080/"
        },
        "id": "m026ar8drmVE",
        "outputId": "386974dc-a3d4-4fef-b9df-124d16748be0"
      },
      "outputs": [
        {
          "name": "stdout",
          "output_type": "stream",
          "text": [
            "{'banana', 'laranja', 'uva', 'maçã'}\n"
          ]
        }
      ],
      "source": [
        "#1 - Crie um conjunto chamado `frutas` que contenha os seguintes elementos: \"maçã\", \"banana\", \"laranja\" e \"uva\". Depois de criar o conjunto, exiba-o no console para confirmar os elementos adicionados.\n",
        "\n",
        "frutas = {\"maçã\", \"banana\", \"laranja\", \"uva\"}\n",
        "print(frutas)"
      ]
    },
    {
      "cell_type": "code",
      "execution_count": null,
      "metadata": {
        "colab": {
          "base_uri": "https://localhost:8080/"
        },
        "id": "SNMyOWMvsZC7",
        "outputId": "cfb15270-affe-46c8-bbf1-1738f3ffd83e"
      },
      "outputs": [
        {
          "name": "stdout",
          "output_type": "stream",
          "text": [
            "{'banana', 'maçã', 'morango', 'laranja', 'uva'}\n"
          ]
        }
      ],
      "source": [
        "#2 - Utilizando o conjunto `frutas` criado anteriormente, adicione a fruta \"morango\" ao conjunto. Lembre-se que conjuntos não permitem duplicatas, então adicione um elemento que já exista para verificar o comportamento.\n",
        "\n",
        "frutas = {\"maçã\", \"banana\", \"laranja\", \"uva\"}\n",
        "frutas.add(\"morango\")\n",
        "print(frutas)\n"
      ]
    },
    {
      "cell_type": "code",
      "execution_count": null,
      "metadata": {
        "colab": {
          "base_uri": "https://localhost:8080/"
        },
        "id": "vO01ysCgtcLp",
        "outputId": "f64aea1f-2f3e-4df8-cace-f2ee2641cf18"
      },
      "outputs": [
        {
          "name": "stdout",
          "output_type": "stream",
          "text": [
            "{'morango', 'laranja', 'uva', 'maçã'}\n"
          ]
        }
      ],
      "source": [
        "#3 - Remova a fruta \"banana\" do conjunto `frutas`. Se \"banana\" não estiver presente, o código pode gerar um erro. Verifique se a fruta existe antes de removê-la ou trate o erro adequadamente.\n",
        "\n",
        "frutas ={'banana', 'maçã', 'morango', 'laranja', 'uva'}\n",
        "frutas.remove(\"banana\")\n",
        "print(frutas)"
      ]
    },
    {
      "cell_type": "code",
      "execution_count": null,
      "metadata": {
        "colab": {
          "base_uri": "https://localhost:8080/"
        },
        "id": "jza55h2KuJig",
        "outputId": "0e170fca-cd70-436d-e1e6-900222c36edf"
      },
      "outputs": [
        {
          "name": "stdout",
          "output_type": "stream",
          "text": [
            "tem laranja\n"
          ]
        }
      ],
      "source": [
        "#4 - Verifique se a fruta \"laranja\" está presente no conjunto `frutas` usando uma estrutura condicional. Exiba uma mensagem no console indicando se \"laranja\" está ou não presente no conjunto.\n",
        "\n",
        "if \"laranja\" in frutas:\n",
        "  print(\"tem laranja\")\n",
        "else:\n",
        "  print(\"n tem\")"
      ]
    },
    {
      "cell_type": "code",
      "execution_count": null,
      "metadata": {
        "colab": {
          "base_uri": "https://localhost:8080/"
        },
        "id": "E2Kvfe4au-tj",
        "outputId": "13bbd8d5-849e-4736-c9be-a350c59231e1"
      },
      "outputs": [
        {
          "name": "stdout",
          "output_type": "stream",
          "text": [
            "{'morango', 'laranja', 'limão', 'uva', 'maçã', 'tangerina'}\n"
          ]
        }
      ],
      "source": [
        "#5 - Crie um segundo conjunto chamado `citrus`, contendo \"laranja\", \"limão\" e \"tangerina\". Faça a união dos conjuntos `frutas` e `citrus`, criando um novo conjunto que contém todos os elementos dos dois conjuntos. Exiba o resultado dessa união.\n",
        "\n",
        "citrus = {\"laranja\", \"limão\", \"tangerina\"}\n",
        "uniao = frutas.union(citrus)\n",
        "print(uniao)"
      ]
    },
    {
      "cell_type": "code",
      "execution_count": null,
      "metadata": {
        "colab": {
          "base_uri": "https://localhost:8080/"
        },
        "id": "5zHCIjr0wJXW",
        "outputId": "f3794cd7-291e-47f7-ad0d-77e69d3c8c2a"
      },
      "outputs": [
        {
          "name": "stdout",
          "output_type": "stream",
          "text": [
            "{'laranja'}\n"
          ]
        }
      ],
      "source": [
        "#6 - Usando os conjuntos `frutas` e `citrus`, encontre a interseção entre eles, ou seja, os elementos que estão presentes em ambos os conjuntos. Exiba os elementos comuns.\n",
        "\n",
        "intersecao = frutas.intersection(citrus)\n",
        "print(intersecao)"
      ]
    },
    {
      "cell_type": "code",
      "execution_count": null,
      "metadata": {
        "colab": {
          "base_uri": "https://localhost:8080/"
        },
        "id": "DKQOU6XJyCbB",
        "outputId": "e4b2f3c3-3060-43ce-fd8a-b14c01c0e856"
      },
      "outputs": [
        {
          "name": "stdout",
          "output_type": "stream",
          "text": [
            "{'morango', 'uva', 'maçã'}\n"
          ]
        }
      ],
      "source": [
        "#7 - Encontre a diferença entre os conjuntos `frutas` e `citrus`, ou seja, os elementos que estão em `frutas` mas não estão em `citrus`. Exiba o resultado dessa diferença.\n",
        "\n",
        "diferentes = frutas.difference(citrus)\n",
        "print(diferentes)"
      ]
    },
    {
      "cell_type": "code",
      "execution_count": null,
      "metadata": {
        "colab": {
          "base_uri": "https://localhost:8080/"
        },
        "id": "30beKK__ypCg",
        "outputId": "03dc2d53-b3b7-4e9f-8a0f-f5687acff749"
      },
      "outputs": [
        {
          "name": "stdout",
          "output_type": "stream",
          "text": [
            "set()\n"
          ]
        }
      ],
      "source": [
        "#8 - Esvazie completamente o conjunto `citrus` usando um método específico que remove todos os elementos de um conjunto. Verifique se o conjunto foi realmente esvaziado ao exibi-lo no console após a operação.\n",
        "citrus.clear()\n",
        "print(citrus)\n"
      ]
    },
    {
      "cell_type": "code",
      "execution_count": null,
      "metadata": {
        "colab": {
          "base_uri": "https://localhost:8080/"
        },
        "id": "7aHxCtGnzrec",
        "outputId": "3b59434d-880f-4146-c7b9-2ac03bbf7e2c"
      },
      "outputs": [
        {
          "name": "stdout",
          "output_type": "stream",
          "text": [
            "frozenset({'morango', 'laranja', 'uva', 'maçã'})\n"
          ]
        }
      ],
      "source": [
        "#9 - Converta o conjunto `frutas` em um conjunto imutável, ou seja, um conjunto que não pode ser alterado após sua criação. Crie esse conjunto imutável e exiba-o no console.\n",
        "\n",
        "frutas_imutaveis = frozenset(frutas)\n",
        "print(frutas_imutaveis)"
      ]
    },
    {
      "cell_type": "code",
      "execution_count": null,
      "metadata": {
        "colab": {
          "base_uri": "https://localhost:8080/"
        },
        "id": "cp8NUq-I0hAR",
        "outputId": "0c2bb4ee-94f0-42a7-c32d-026ce633f4e1"
      },
      "outputs": [
        {
          "name": "stdout",
          "output_type": "stream",
          "text": [
            "4\n"
          ]
        }
      ],
      "source": [
        "#10 - Conte quantos elementos únicos existem no conjunto `frutas` e exiba o número total de elementos no console.\n",
        "\n",
        "print(len(frutas))"
      ]
    },
    {
      "cell_type": "markdown",
      "metadata": {
        "id": "Sb1c55WqFSAU"
      },
      "source": [
        "EXERCICIO 01 PORTIFOLIO DO DIA 24/10"
      ]
    },
    {
      "cell_type": "code",
      "execution_count": null,
      "metadata": {
        "colab": {
          "base_uri": "https://localhost:8080/"
        },
        "id": "2RNecIToFWxr",
        "outputId": "6ac06c97-94bd-4db7-eaff-6b88cc836ead"
      },
      "outputs": [
        {
          "name": "stdout",
          "output_type": "stream",
          "text": [
            "2\n",
            "4\n",
            "6\n",
            "8\n",
            "10\n"
          ]
        }
      ],
      "source": [
        "#1. Crie uma lista contendo cinco números inteiros de sua escolha. Em seguida, percorra essa lista e imprima o valor de cada elemento multiplicado por 2. O resultado deve mostrar o novo valor de cada elemento, um por vez.\n",
        "\n",
        "lista = [1,2,3,4,5]\n",
        "for i in lista:\n",
        "  print(i*2)\n"
      ]
    },
    {
      "cell_type": "code",
      "execution_count": null,
      "metadata": {
        "colab": {
          "base_uri": "https://localhost:8080/"
        },
        "id": "89xJ_ZhyG6V6",
        "outputId": "66ea1235-21a5-4e54-862f-88d69af45b2d"
      },
      "outputs": [
        {
          "name": "stdout",
          "output_type": "stream",
          "text": [
            "['maçã', 'laranja', 'uva', 'melancia']\n"
          ]
        }
      ],
      "source": [
        "#2. Dada a lista [\"maçã\", \"banana\", \"laranja\", \"uva\"], remova o item \"banana\" da lista e adicione a fruta \"melancia\" no lugar. Depois, mostre a nova lista atualizada com as alterações feitas.\n",
        "\n",
        "lista = [\"maçã\", \"banana\", \"laranja\", \"uva\"]\n",
        "lista.remove(\"banana\")\n",
        "lista.append(\"melancia\")\n",
        "print(lista)"
      ]
    },
    {
      "cell_type": "code",
      "execution_count": null,
      "metadata": {
        "colab": {
          "base_uri": "https://localhost:8080/"
        },
        "id": "jAwKLtCZKDGw",
        "outputId": "48370143-da5b-4be6-e1c6-f0df14c92ba9"
      },
      "outputs": [
        {
          "name": "stdout",
          "output_type": "stream",
          "text": [
            "9\n",
            "1\n"
          ]
        }
      ],
      "source": [
        "#3. Escreva um programa que receba uma lista de números inteiros e exiba qual é o maior número e qual é o menor número presente na lista. Certifique-se de mostrar ambos os valores ao final.\n",
        "\n",
        "lista = [1, 2, 3, 4, 5, 6, 7, 8, 9]\n",
        "print(max(lista))\n",
        "print(min(lista))"
      ]
    },
    {
      "cell_type": "code",
      "execution_count": null,
      "metadata": {
        "colab": {
          "base_uri": "https://localhost:8080/"
        },
        "id": "TBEncic7K5Ue",
        "outputId": "c3921d33-137f-4493-d2d4-71cf7a5321ca"
      },
      "outputs": [
        {
          "name": "stdout",
          "output_type": "stream",
          "text": [
            "[4, 6, 7, 3]\n"
          ]
        }
      ],
      "source": [
        "#4. Crie uma função que receba uma lista contendo várias palavras (strings). A função deve devolver uma nova lista que contenha a quantidade de letras de cada palavra da lista original. Exiba essa nova lista com o número de letras correspondente a cada palavra.\n",
        "\n",
        "lista = [\"maçã\", \"banana\", \"laranja\", \"uva\"]\n",
        "nova_lista = []\n",
        "for i in lista:\n",
        "  nova_lista.append(len(i))\n",
        "print(nova_lista)"
      ]
    },
    {
      "cell_type": "code",
      "execution_count": null,
      "metadata": {
        "colab": {
          "base_uri": "https://localhost:8080/"
        },
        "id": "wLppm8kgMNav",
        "outputId": "e8816668-6e11-42fb-9114-7191a2b9e40e"
      },
      "outputs": [
        {
          "name": "stdout",
          "output_type": "stream",
          "text": [
            "[1, 2, 3, 4, 5, 6]\n"
          ]
        }
      ],
      "source": [
        "#5. Dada uma lista de números inteiros que você vai definir, ordene essa lista em ordem crescente e depois exiba o resultado da lista ordenada.\n",
        "\n",
        "lista = [1, 2, 3, 4, 5, 6]\n",
        "lista.sort()\n",
        "print(lista)"
      ]
    },
    {
      "cell_type": "code",
      "execution_count": null,
      "metadata": {
        "id": "u7_D3-ytNvZe"
      },
      "outputs": [],
      "source": [
        "#6. Crie uma tupla que contenha os números de 1 a 5. Tente alterar o valor do segundo elemento dessa tupla e observe o que acontece. No final, explique por que você conseguiu ou não modificar o valor.\n",
        "\n",
        "tupla = (1, 2, 3, 4, 5)\n",
        "tupla.add(6)\n",
        "print(tupla)"
      ]
    },
    {
      "cell_type": "code",
      "execution_count": null,
      "metadata": {
        "colab": {
          "base_uri": "https://localhost:8080/"
        },
        "id": "F_W3eq7vPx5O",
        "outputId": "8b39930a-2e59-4fb5-a42f-143f2198aa0e"
      },
      "outputs": [
        {
          "name": "stdout",
          "output_type": "stream",
          "text": [
            "21\n"
          ]
        }
      ],
      "source": [
        "#7. Escreva um programa que receba uma tupla contendo diversos números inteiros. O programa deve calcular e exibir a soma de todos os números presentes na tupla.\n",
        "\n",
        "tupla = (1,2,3,4,5,6)\n",
        "soma = sum(tupla)\n",
        "print(soma)"
      ]
    },
    {
      "cell_type": "code",
      "execution_count": null,
      "metadata": {
        "colab": {
          "base_uri": "https://localhost:8080/"
        },
        "id": "14BkavK1QNY9",
        "outputId": "10b60798-b3c0-443d-9b22-7998ecd31a8d"
      },
      "outputs": [
        {
          "name": "stdout",
          "output_type": "stream",
          "text": [
            "1\n",
            "5\n"
          ]
        }
      ],
      "source": [
        "#8. Dada uma tupla que contém cinco números, crie uma função que retorne o primeiro e o último número dessa tupla. O programa deve imprimir ambos os valores corretamente.\n",
        "\n",
        "tupla = (1,2,3,4,5)\n",
        "print(tupla[0])\n",
        "print(tupla[-1])"
      ]
    },
    {
      "cell_type": "code",
      "execution_count": null,
      "metadata": {
        "colab": {
          "base_uri": "https://localhost:8080/"
        },
        "id": "0YAxEMjhyzZE",
        "outputId": "be500bfa-4aaa-4738-e507-92bedecb520b"
      },
      "outputs": [
        {
          "name": "stdout",
          "output_type": "stream",
          "text": [
            "<class 'tuple'>\n"
          ]
        }
      ],
      "source": [
        "#9. Converta a lista [\"a\", \"b\", \"c\", \"d\"] em uma tupla e, em seguida, exiba o tipo do novo objeto que foi criado. O programa deve deixar claro que o tipo mudou de lista para tupla.\n",
        "\n",
        "lista = [\"a\", \"b\", \"c\", \"d\"]\n",
        "tupla = tuple(lista)\n",
        "print(type(tupla))"
      ]
    },
    {
      "cell_type": "code",
      "execution_count": null,
      "metadata": {
        "colab": {
          "base_uri": "https://localhost:8080/"
        },
        "id": "DppFNx-G05Qr",
        "outputId": "349b0ab8-2427-4eff-ef2d-5bbfe0da5dd2"
      },
      "outputs": [
        {
          "name": "stdout",
          "output_type": "stream",
          "text": [
            "n tem\n"
          ]
        }
      ],
      "source": [
        "#10. Crie uma tupla com três números inteiros e uma string. Depois, verifique se o número 3 está presente nessa tupla e mostre uma mensagem dizendo se o número foi encontrado ou não.\n",
        "\n",
        "tupla = (1,2,55,\"a\")\n",
        "if 3 in tupla:\n",
        "  print(\"tem\")\n",
        "else:\n",
        "  print(\"n tem\")"
      ]
    },
    {
      "cell_type": "code",
      "execution_count": null,
      "metadata": {
        "colab": {
          "base_uri": "https://localhost:8080/"
        },
        "id": "TU-DVMvd1Rr-",
        "outputId": "75b04b43-b018-420f-bc54-65eb8db69785"
      },
      "outputs": [
        {
          "name": "stdout",
          "output_type": "stream",
          "text": [
            "{1, 2, 3, 4, 5, 6}\n",
            "{3, 4}\n",
            "{1, 2}\n"
          ]
        }
      ],
      "source": [
        "#11. Crie dois sets: set1 = {1, 2, 3, 4} e set2 = {3, 4, 5, 6}. Exiba a união dos dois sets (todos os elementos sem repetição), a interseção (elementos que aparecem nos dois sets) e a diferença (elementos presentes no primeiro set, mas não no segundo). Mostre os resultados de cada operação.\n",
        "\n",
        "set1 = {1,2,3,4}\n",
        "set2 = {3,4,5,6}\n",
        "uniao = set1.union(set2)\n",
        "intersecao = set1.intersection(set2)\n",
        "diferenca = set1.difference(set2)\n",
        "print(uniao)\n",
        "print(intersecao)\n",
        "print(diferenca)"
      ]
    },
    {
      "cell_type": "code",
      "execution_count": null,
      "metadata": {
        "colab": {
          "base_uri": "https://localhost:8080/"
        },
        "id": "ZJxSVixS1psy",
        "outputId": "88f90635-af0a-4e09-aba2-5bef969fe88d"
      },
      "outputs": [
        {
          "name": "stdout",
          "output_type": "stream",
          "text": [
            "{1, 2, 3, 4, 5}\n"
          ]
        }
      ],
      "source": [
        "#12. Dada a lista [1, 2, 2, 3, 4, 4, 5], remova os elementos duplicados transformando a lista em um set. Ao final, exiba o set resultante, que deve conter apenas valores únicos.\n",
        "\n",
        "lista = [1, 2, 3, 4, 4, 5]\n",
        "set1 = set(lista)\n",
        "print(set1)"
      ]
    },
    {
      "cell_type": "code",
      "execution_count": null,
      "metadata": {
        "colab": {
          "base_uri": "https://localhost:8080/"
        },
        "id": "ZDq2Ndsd2GTw",
        "outputId": "8319096f-ffbf-452c-d749-3b060b20c658"
      },
      "outputs": [
        {
          "name": "stdout",
          "output_type": "stream",
          "text": [
            "{5, 10, 20, 25}\n"
          ]
        }
      ],
      "source": [
        "#13. Crie um set contendo os valores {5, 10, 15, 20}. Adicione o número 25 a esse set e depois remova o valor 15. Mostre o set após cada alteração.\n",
        "\n",
        "set1 = {5,10,15,20}\n",
        "set1.add(25)\n",
        "set1.remove(15)\n",
        "print(set1)\n"
      ]
    },
    {
      "cell_type": "code",
      "execution_count": null,
      "metadata": {
        "colab": {
          "base_uri": "https://localhost:8080/"
        },
        "id": "I-e321UC2zVW",
        "outputId": "9043daee-c7a0-4ac4-84b5-3524a793595c"
      },
      "outputs": [
        {
          "name": "stdout",
          "output_type": "stream",
          "text": [
            "n tem\n"
          ]
        }
      ],
      "source": [
        "#14. Verifique se o número 7 está presente no set {1, 2, 3, 4, 5}. O programa deve exibir uma mensagem informando se o número foi encontrado ou não no set.\n",
        "\n",
        "set1 = {1,2,3,4,5}\n",
        "if 7 in set1:\n",
        "  print(\"tem\")\n",
        "else:\n",
        " print(\"n tem\")"
      ]
    },
    {
      "cell_type": "code",
      "execution_count": null,
      "metadata": {
        "colab": {
          "base_uri": "https://localhost:8080/"
        },
        "id": "U6GoebeN3ypu",
        "outputId": "3ac6e234-3d53-42c7-eb58-b95fb818abf1"
      },
      "outputs": [
        {
          "name": "stdout",
          "output_type": "stream",
          "text": [
            "{1, 2, 3, 4, 5, 6, 7, 8, 9}\n"
          ]
        }
      ],
      "source": [
        "#15. Crie um set vazio e adicione vários valores a ele usando um laço de repetição (por exemplo, um for ou while). No final, mostre todos os valores armazenados no set.\n",
        "\n",
        "set1 = set()\n",
        "for i in range(1,10):\n",
        "  set1.add(i)\n",
        "print(set1)"
      ]
    },
    {
      "cell_type": "code",
      "execution_count": null,
      "metadata": {
        "colab": {
          "base_uri": "https://localhost:8080/"
        },
        "id": "KENM4yBN8vH4",
        "outputId": "2cf228b3-aeff-4db9-ff90-56dacdf4e767"
      },
      "outputs": [
        {
          "name": "stdout",
          "output_type": "stream",
          "text": [
            "{'nome': 'Ana', 'idade': 22, 'curso': 'Engenharia', 'universidade': 'USP'}\n"
          ]
        }
      ],
      "source": [
        "#16. Crie um dicionário com os pares chave-valor 'nome': 'Ana', 'idade': 22, 'curso': 'Engenharia'. Adicione uma nova chave 'universidade': 'USP' ao dicionário. Em seguida, exiba o dicionário completo com todas as informações.\n",
        "\n",
        "dicionario = {'nome': 'Ana', 'idade': 22, 'curso': 'Engenharia'}\n",
        "dicionario['universidade'] = 'USP'\n",
        "print(dicionario)"
      ]
    },
    {
      "cell_type": "code",
      "execution_count": null,
      "metadata": {
        "colab": {
          "base_uri": "https://localhost:8080/"
        },
        "id": "Y3zSQE9Z88Je",
        "outputId": "912b8667-ec89-4d5d-e265-6cc2a794e47c"
      },
      "outputs": [
        {
          "name": "stdout",
          "output_type": "stream",
          "text": [
            "chave: nome, valor: Ana\n",
            "chave: idade, valor: 22\n",
            "chave: curso, valor: Engenharia\n"
          ]
        }
      ],
      "source": [
        "#17. Escreva um programa que percorra um dicionário com várias chaves e valores. Para cada par, imprima a chave e o valor no formato: Chave: X, Valor: Y. O dicionário pode conter qualquer informação que você preferir.\n",
        "\n",
        "dicionario = {'nome': 'Ana', 'idade': 22, 'curso': 'Engenharia'}\n",
        "for chave, valor in dicionario.items():\n",
        "  print(f\"chave: {chave}, valor: {valor}\")"
      ]
    },
    {
      "cell_type": "code",
      "execution_count": 9,
      "metadata": {
        "colab": {
          "base_uri": "https://localhost:8080/"
        },
        "id": "iRGf--0C9KiN",
        "outputId": "db04d69c-b444-4a11-8fd3-c9f49d5a23f6"
      },
      "outputs": [
        {
          "output_type": "stream",
          "name": "stdout",
          "text": [
            "digite o nome do aluno:lucas\n",
            "a media do aluno lucas é 9.666666666666666\n"
          ]
        }
      ],
      "source": [
        "#18. Crie um dicionário que relacione nomes de alunos às suas notas. Depois, crie uma função que calcule e exiba a média das notas desses alunos com base nas informações do dicionário.\n",
        "\n",
        "lista = {'gustavo':[10,9,8], 'lucas':[10,10,9]}\n",
        "\n",
        "aluno = input(\"digite o nome do aluno:\")\n",
        "notas = lista[aluno]\n",
        "media = sum(notas)/len(notas)\n",
        "print(f\"a media do aluno {aluno} é {media}\")"
      ]
    },
    {
      "cell_type": "code",
      "execution_count": null,
      "metadata": {
        "colab": {
          "base_uri": "https://localhost:8080/"
        },
        "id": "W-4z8WZs_YB9",
        "outputId": "18ef698b-2eb2-4fbf-ab5a-a6acadca3069"
      },
      "outputs": [
        {
          "name": "stdout",
          "output_type": "stream",
          "text": [
            "digite a chave:lucas\n",
            "chave não encontrada\n"
          ]
        }
      ],
      "source": [
        "#19. Escreva um programa que permita ao usuário buscar o valor de uma chave específica em um dicionário. Caso a chave não exista, o programa deve exibir uma mensagem dizendo que a chave não foi encontrada. Teste o programa com diferentes chaves.\n",
        "\n",
        "dicionario = {'nome': 'Ana', 'idade': 22, 'curso': 'Engenharia'}\n",
        "chave = input(\"digite a chave:\")\n",
        "if chave in dicionario:\n",
        "  print(dicionario[chave])\n",
        "else:\n",
        "  print(\"chave não encontrada\")"
      ]
    },
    {
      "cell_type": "code",
      "execution_count": null,
      "metadata": {
        "colab": {
          "base_uri": "https://localhost:8080/"
        },
        "id": "9e7Sq6jP_lny",
        "outputId": "6c4a5493-26ed-45ea-f40c-d4b18cdc06b7"
      },
      "outputs": [
        {
          "name": "stdout",
          "output_type": "stream",
          "text": [
            "digite o produto:pão\n",
            "digite o novo preço:200\n",
            "{'pão': 200.0, 'leite': 3.0, 'café': 4.5}\n"
          ]
        }
      ],
      "source": [
        "#20. Dado um dicionário que contém produtos e seus respectivos preços, como {'pão': 2.50, 'leite': 3.00, 'café': 4.50}, permita que o usuário altere o preço de um dos produtos e exiba o dicionário atualizado com o novo valor.\n",
        "\n",
        "dicionario = {'pão': 2.50, 'leite': 3.00, 'café': 4.50}\n",
        "produto = input(\"digite o produto:\")\n",
        "novo_preco = float(input(\"digite o novo preço:\"))\n",
        "dicionario[produto] = novo_preco\n",
        "print(dicionario)"
      ]
    }
  ],
  "metadata": {
    "colab": {
      "provenance": [],
      "authorship_tag": "ABX9TyNqmFKUnlROdEOYKTV8EoFY",
      "include_colab_link": true
    },
    "kernelspec": {
      "display_name": "Python 3",
      "name": "python3"
    },
    "language_info": {
      "name": "python"
    }
  },
  "nbformat": 4,
  "nbformat_minor": 0
}